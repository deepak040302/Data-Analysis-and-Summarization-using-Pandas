{
 "cells": [
  {
   "cell_type": "markdown",
   "id": "7b503801",
   "metadata": {},
   "source": [
    "# 1.DATA ANALYSIS OF ITEM DATASET"
   ]
  },
  {
   "cell_type": "code",
   "execution_count": 1,
   "id": "0de1bf7d",
   "metadata": {},
   "outputs": [],
   "source": [
    "import pandas as pd   #importing the pandas library"
   ]
  },
  {
   "cell_type": "code",
   "execution_count": 2,
   "id": "0646567d",
   "metadata": {},
   "outputs": [],
   "source": [
    "item_data = pd.read_csv('item_data.csv')    #loading the dataset"
   ]
  },
  {
   "cell_type": "code",
   "execution_count": 3,
   "id": "253bfcdd",
   "metadata": {
    "scrolled": true
   },
   "outputs": [
    {
     "data": {
      "text/html": [
       "<div>\n",
       "<style scoped>\n",
       "    .dataframe tbody tr th:only-of-type {\n",
       "        vertical-align: middle;\n",
       "    }\n",
       "\n",
       "    .dataframe tbody tr th {\n",
       "        vertical-align: top;\n",
       "    }\n",
       "\n",
       "    .dataframe thead th {\n",
       "        text-align: right;\n",
       "    }\n",
       "</style>\n",
       "<table border=\"1\" class=\"dataframe\">\n",
       "  <thead>\n",
       "    <tr style=\"text-align: right;\">\n",
       "      <th></th>\n",
       "      <th>item_id</th>\n",
       "      <th>brand</th>\n",
       "      <th>brand_type</th>\n",
       "      <th>category</th>\n",
       "    </tr>\n",
       "  </thead>\n",
       "  <tbody>\n",
       "    <tr>\n",
       "      <th>0</th>\n",
       "      <td>1</td>\n",
       "      <td>1</td>\n",
       "      <td>Established</td>\n",
       "      <td>Grocery</td>\n",
       "    </tr>\n",
       "    <tr>\n",
       "      <th>1</th>\n",
       "      <td>2</td>\n",
       "      <td>1</td>\n",
       "      <td>Established</td>\n",
       "      <td>Miscellaneous</td>\n",
       "    </tr>\n",
       "    <tr>\n",
       "      <th>2</th>\n",
       "      <td>3</td>\n",
       "      <td>56</td>\n",
       "      <td>Local</td>\n",
       "      <td>Bakery</td>\n",
       "    </tr>\n",
       "    <tr>\n",
       "      <th>3</th>\n",
       "      <td>4</td>\n",
       "      <td>56</td>\n",
       "      <td>Local</td>\n",
       "      <td>Grocery</td>\n",
       "    </tr>\n",
       "    <tr>\n",
       "      <th>4</th>\n",
       "      <td>5</td>\n",
       "      <td>56</td>\n",
       "      <td>Local</td>\n",
       "      <td>Grocery</td>\n",
       "    </tr>\n",
       "  </tbody>\n",
       "</table>\n",
       "</div>"
      ],
      "text/plain": [
       "   item_id  brand   brand_type       category\n",
       "0        1      1  Established        Grocery\n",
       "1        2      1  Established  Miscellaneous\n",
       "2        3     56        Local         Bakery\n",
       "3        4     56        Local        Grocery\n",
       "4        5     56        Local        Grocery"
      ]
     },
     "execution_count": 3,
     "metadata": {},
     "output_type": "execute_result"
    }
   ],
   "source": [
    "item_data.head()    #printing the first five rows of the dataset"
   ]
  },
  {
   "cell_type": "code",
   "execution_count": 4,
   "id": "b0e7162c",
   "metadata": {},
   "outputs": [
    {
     "data": {
      "text/html": [
       "<div>\n",
       "<style scoped>\n",
       "    .dataframe tbody tr th:only-of-type {\n",
       "        vertical-align: middle;\n",
       "    }\n",
       "\n",
       "    .dataframe tbody tr th {\n",
       "        vertical-align: top;\n",
       "    }\n",
       "\n",
       "    .dataframe thead th {\n",
       "        text-align: right;\n",
       "    }\n",
       "</style>\n",
       "<table border=\"1\" class=\"dataframe\">\n",
       "  <thead>\n",
       "    <tr style=\"text-align: right;\">\n",
       "      <th></th>\n",
       "      <th>item_id</th>\n",
       "      <th>brand</th>\n",
       "      <th>brand_type</th>\n",
       "      <th>category</th>\n",
       "    </tr>\n",
       "  </thead>\n",
       "  <tbody>\n",
       "    <tr>\n",
       "      <th>74061</th>\n",
       "      <td>74062</td>\n",
       "      <td>5490</td>\n",
       "      <td>Established</td>\n",
       "      <td>Pharmaceutical</td>\n",
       "    </tr>\n",
       "    <tr>\n",
       "      <th>74062</th>\n",
       "      <td>74063</td>\n",
       "      <td>5497</td>\n",
       "      <td>Established</td>\n",
       "      <td>Pharmaceutical</td>\n",
       "    </tr>\n",
       "    <tr>\n",
       "      <th>74063</th>\n",
       "      <td>74064</td>\n",
       "      <td>5497</td>\n",
       "      <td>Established</td>\n",
       "      <td>Pharmaceutical</td>\n",
       "    </tr>\n",
       "    <tr>\n",
       "      <th>74064</th>\n",
       "      <td>74065</td>\n",
       "      <td>5520</td>\n",
       "      <td>Established</td>\n",
       "      <td>Pharmaceutical</td>\n",
       "    </tr>\n",
       "    <tr>\n",
       "      <th>74065</th>\n",
       "      <td>74066</td>\n",
       "      <td>5194</td>\n",
       "      <td>Established</td>\n",
       "      <td>Grocery</td>\n",
       "    </tr>\n",
       "  </tbody>\n",
       "</table>\n",
       "</div>"
      ],
      "text/plain": [
       "       item_id  brand   brand_type        category\n",
       "74061    74062   5490  Established  Pharmaceutical\n",
       "74062    74063   5497  Established  Pharmaceutical\n",
       "74063    74064   5497  Established  Pharmaceutical\n",
       "74064    74065   5520  Established  Pharmaceutical\n",
       "74065    74066   5194  Established         Grocery"
      ]
     },
     "execution_count": 4,
     "metadata": {},
     "output_type": "execute_result"
    }
   ],
   "source": [
    "item_data.tail()   #printing the last five rows of the dataset"
   ]
  },
  {
   "cell_type": "code",
   "execution_count": 5,
   "id": "0cdec03e",
   "metadata": {},
   "outputs": [
    {
     "data": {
      "text/plain": [
       "(74066, 4)"
      ]
     },
     "execution_count": 5,
     "metadata": {},
     "output_type": "execute_result"
    }
   ],
   "source": [
    "item_data.shape  #the item data set have total 74066 rows and 4 columns"
   ]
  },
  {
   "cell_type": "code",
   "execution_count": 6,
   "id": "5fc65179",
   "metadata": {},
   "outputs": [
    {
     "name": "stdout",
     "output_type": "stream",
     "text": [
      "<class 'pandas.core.frame.DataFrame'>\n",
      "RangeIndex: 74066 entries, 0 to 74065\n",
      "Data columns (total 4 columns):\n",
      " #   Column      Non-Null Count  Dtype \n",
      "---  ------      --------------  ----- \n",
      " 0   item_id     74066 non-null  int64 \n",
      " 1   brand       74066 non-null  int64 \n",
      " 2   brand_type  74066 non-null  object\n",
      " 3   category    74066 non-null  object\n",
      "dtypes: int64(2), object(2)\n",
      "memory usage: 2.3+ MB\n"
     ]
    }
   ],
   "source": [
    "item_data.info()  #some basic informations of the item dataset"
   ]
  },
  {
   "cell_type": "code",
   "execution_count": 7,
   "id": "39e3a5dc",
   "metadata": {},
   "outputs": [
    {
     "data": {
      "text/plain": [
       "item_id       74066\n",
       "brand          5528\n",
       "brand_type        2\n",
       "category         19\n",
       "dtype: int64"
      ]
     },
     "execution_count": 7,
     "metadata": {},
     "output_type": "execute_result"
    }
   ],
   "source": [
    "item_data.nunique()  #no of unique values in columns of the item dataset"
   ]
  },
  {
   "cell_type": "code",
   "execution_count": 8,
   "id": "2c679ebf",
   "metadata": {},
   "outputs": [
    {
     "data": {
      "text/html": [
       "<div>\n",
       "<style scoped>\n",
       "    .dataframe tbody tr th:only-of-type {\n",
       "        vertical-align: middle;\n",
       "    }\n",
       "\n",
       "    .dataframe tbody tr th {\n",
       "        vertical-align: top;\n",
       "    }\n",
       "\n",
       "    .dataframe thead th {\n",
       "        text-align: right;\n",
       "    }\n",
       "</style>\n",
       "<table border=\"1\" class=\"dataframe\">\n",
       "  <thead>\n",
       "    <tr style=\"text-align: right;\">\n",
       "      <th></th>\n",
       "      <th>item_id</th>\n",
       "      <th>brand</th>\n",
       "    </tr>\n",
       "  </thead>\n",
       "  <tbody>\n",
       "    <tr>\n",
       "      <th>count</th>\n",
       "      <td>74066.000000</td>\n",
       "      <td>74066.000000</td>\n",
       "    </tr>\n",
       "    <tr>\n",
       "      <th>mean</th>\n",
       "      <td>37033.500000</td>\n",
       "      <td>1485.560055</td>\n",
       "    </tr>\n",
       "    <tr>\n",
       "      <th>std</th>\n",
       "      <td>21381.156856</td>\n",
       "      <td>1537.385673</td>\n",
       "    </tr>\n",
       "    <tr>\n",
       "      <th>min</th>\n",
       "      <td>1.000000</td>\n",
       "      <td>1.000000</td>\n",
       "    </tr>\n",
       "    <tr>\n",
       "      <th>25%</th>\n",
       "      <td>18517.250000</td>\n",
       "      <td>278.000000</td>\n",
       "    </tr>\n",
       "    <tr>\n",
       "      <th>50%</th>\n",
       "      <td>37033.500000</td>\n",
       "      <td>978.000000</td>\n",
       "    </tr>\n",
       "    <tr>\n",
       "      <th>75%</th>\n",
       "      <td>55549.750000</td>\n",
       "      <td>2013.000000</td>\n",
       "    </tr>\n",
       "    <tr>\n",
       "      <th>max</th>\n",
       "      <td>74066.000000</td>\n",
       "      <td>5528.000000</td>\n",
       "    </tr>\n",
       "  </tbody>\n",
       "</table>\n",
       "</div>"
      ],
      "text/plain": [
       "            item_id         brand\n",
       "count  74066.000000  74066.000000\n",
       "mean   37033.500000   1485.560055\n",
       "std    21381.156856   1537.385673\n",
       "min        1.000000      1.000000\n",
       "25%    18517.250000    278.000000\n",
       "50%    37033.500000    978.000000\n",
       "75%    55549.750000   2013.000000\n",
       "max    74066.000000   5528.000000"
      ]
     },
     "execution_count": 8,
     "metadata": {},
     "output_type": "execute_result"
    }
   ],
   "source": [
    "item_data.describe() #statstics values of the dataset"
   ]
  },
  {
   "cell_type": "code",
   "execution_count": 9,
   "id": "5b737f9b",
   "metadata": {},
   "outputs": [
    {
     "data": {
      "text/plain": [
       "array([[<AxesSubplot:title={'center':'item_id'}>,\n",
       "        <AxesSubplot:title={'center':'brand'}>]], dtype=object)"
      ]
     },
     "execution_count": 9,
     "metadata": {},
     "output_type": "execute_result"
    },
    {
     "data": {
      "image/png": "[encoded data removed]",
      "text/plain": [
       "<Figure size 600x400 with 2 Axes>"
      ]
     },
     "metadata": {},
     "output_type": "display_data"
    }
   ],
   "source": [
    " item_data.hist(figsize=(6, 4)) "
   ]
  },
  {
   "cell_type": "code",
   "execution_count": 10,
   "id": "0c645286",
   "metadata": {},
   "outputs": [
    {
     "data": {
      "text/html": [
       "<div>\n",
       "<style scoped>\n",
       "    .dataframe tbody tr th:only-of-type {\n",
       "        vertical-align: middle;\n",
       "    }\n",
       "\n",
       "    .dataframe tbody tr th {\n",
       "        vertical-align: top;\n",
       "    }\n",
       "\n",
       "    .dataframe thead th {\n",
       "        text-align: right;\n",
       "    }\n",
       "</style>\n",
       "<table border=\"1\" class=\"dataframe\">\n",
       "  <thead>\n",
       "    <tr style=\"text-align: right;\">\n",
       "      <th></th>\n",
       "      <th>item_id</th>\n",
       "      <th>brand</th>\n",
       "    </tr>\n",
       "  </thead>\n",
       "  <tbody>\n",
       "    <tr>\n",
       "      <th>item_id</th>\n",
       "      <td>1.000000</td>\n",
       "      <td>0.158051</td>\n",
       "    </tr>\n",
       "    <tr>\n",
       "      <th>brand</th>\n",
       "      <td>0.158051</td>\n",
       "      <td>1.000000</td>\n",
       "    </tr>\n",
       "  </tbody>\n",
       "</table>\n",
       "</div>"
      ],
      "text/plain": [
       "          item_id     brand\n",
       "item_id  1.000000  0.158051\n",
       "brand    0.158051  1.000000"
      ]
     },
     "execution_count": 10,
     "metadata": {},
     "output_type": "execute_result"
    }
   ],
   "source": [
    "item_data.corr()"
   ]
  },
  {
   "cell_type": "code",
   "execution_count": 11,
   "id": "52c49f64",
   "metadata": {},
   "outputs": [
    {
     "data": {
      "text/plain": [
       "['item_id', 'brand', 'brand_type', 'category']"
      ]
     },
     "execution_count": 11,
     "metadata": {},
     "output_type": "execute_result"
    }
   ],
   "source": [
    "item_data_columns=list(item_data.columns)\n",
    "item_data_columns #printing the columns names of the dataset"
   ]
  },
  {
   "cell_type": "code",
   "execution_count": 12,
   "id": "5d7338c8",
   "metadata": {},
   "outputs": [
    {
     "data": {
      "text/plain": [
       "array([[1, 1, 'Established', 'Grocery'],\n",
       "       [2, 1, 'Established', 'Miscellaneous'],\n",
       "       [3, 56, 'Local', 'Bakery'],\n",
       "       ...,\n",
       "       [74064, 5497, 'Established', 'Pharmaceutical'],\n",
       "       [74065, 5520, 'Established', 'Pharmaceutical'],\n",
       "       [74066, 5194, 'Established', 'Grocery']], dtype=object)"
      ]
     },
     "execution_count": 12,
     "metadata": {},
     "output_type": "execute_result"
    }
   ],
   "source": [
    "item_data_values=item_data.values\n",
    "item_data_values #printing the values of the dataset"
   ]
  },
  {
   "cell_type": "code",
   "execution_count": 13,
   "id": "c65a7189",
   "metadata": {},
   "outputs": [
    {
     "data": {
      "text/plain": [
       "Established    62842\n",
       "Local          11224\n",
       "Name: brand_type, dtype: int64"
      ]
     },
     "execution_count": 13,
     "metadata": {},
     "output_type": "execute_result"
    }
   ],
   "source": [
    "item_data.brand_type.value_counts()   #count of diffrent element values in the brand_type column of the dataset"
   ]
  },
  {
   "cell_type": "code",
   "execution_count": 14,
   "id": "23bbb06d",
   "metadata": {},
   "outputs": [
    {
     "data": {
      "text/plain": [
       "Grocery                   32448\n",
       "Pharmaceutical            24471\n",
       "Natural Products           2533\n",
       "Dairy, Juices & Snacks     2425\n",
       "Skin & Hair Care           2244\n",
       "Meat                       2080\n",
       "Packaged Meat              1966\n",
       "Prepared Food              1880\n",
       "Bakery                     1679\n",
       "Seafood                     728\n",
       "Flowers & Plants            664\n",
       "Miscellaneous               385\n",
       "Alcohol                     303\n",
       "Garden                      102\n",
       "Restauarant                  78\n",
       "Salads                       40\n",
       "Travel                       19\n",
       "Fuel                         14\n",
       "Vegetables (cut)              7\n",
       "Name: category, dtype: int64"
      ]
     },
     "execution_count": 14,
     "metadata": {},
     "output_type": "execute_result"
    }
   ],
   "source": [
    "item_data.category.value_counts()   #count of diffrent element values in the category column of the dataset"
   ]
  },
  {
   "cell_type": "code",
   "execution_count": 15,
   "id": "ba7643bc",
   "metadata": {},
   "outputs": [
    {
     "data": {
      "text/plain": [
       "56      10480\n",
       "686      1142\n",
       "1        1091\n",
       "4700      923\n",
       "1262      906\n",
       "        ...  \n",
       "758         1\n",
       "4192        1\n",
       "5306        1\n",
       "1798        1\n",
       "3360        1\n",
       "Name: brand, Length: 5528, dtype: int64"
      ]
     },
     "execution_count": 15,
     "metadata": {},
     "output_type": "execute_result"
    }
   ],
   "source": [
    "item_data.brand.value_counts()   #count of diffrent element values in the brand column of the dataset"
   ]
  },
  {
   "cell_type": "code",
   "execution_count": 16,
   "id": "1b0b6cef",
   "metadata": {},
   "outputs": [
    {
     "name": "stdout",
     "output_type": "stream",
     "text": [
      "0        False\n",
      "1        False\n",
      "2        False\n",
      "3        False\n",
      "4        False\n",
      "         ...  \n",
      "74061    False\n",
      "74062    False\n",
      "74063    False\n",
      "74064    False\n",
      "74065    False\n",
      "Length: 74066, dtype: bool\n"
     ]
    }
   ],
   "source": [
    "print(item_data.duplicated())  #finding the duplicate rows in the datset"
   ]
  },
  {
   "cell_type": "code",
   "execution_count": 17,
   "id": "f1804258",
   "metadata": {},
   "outputs": [
    {
     "name": "stdout",
     "output_type": "stream",
     "text": [
      "0\n"
     ]
    }
   ],
   "source": [
    "print(item_data.duplicated().sum())  #count of the duplicated rows in the dataset"
   ]
  },
  {
   "cell_type": "code",
   "execution_count": 18,
   "id": "375093ff",
   "metadata": {},
   "outputs": [
    {
     "data": {
      "text/plain": [
       "item_id       0\n",
       "brand         0\n",
       "brand_type    0\n",
       "category      0\n",
       "dtype: int64"
      ]
     },
     "execution_count": 18,
     "metadata": {},
     "output_type": "execute_result"
    }
   ],
   "source": [
    "item_data.isnull().sum()  #count of null values in each columns of the datset"
   ]
  },
  {
   "cell_type": "code",
   "execution_count": null,
   "id": "5de76f79",
   "metadata": {},
   "outputs": [],
   "source": []
  },
  {
   "cell_type": "markdown",
   "id": "ad842838",
   "metadata": {},
   "source": [
    "# 2.DATA ANALYSIS OF TRAIN DATASET "
   ]
  },
  {
   "cell_type": "code",
   "execution_count": 19,
   "id": "81d0a15b",
   "metadata": {},
   "outputs": [],
   "source": [
    "train_data = pd.read_csv('train.csv')   #loading the dataset"
   ]
  },
  {
   "cell_type": "code",
   "execution_count": 20,
   "id": "b3e274f3",
   "metadata": {},
   "outputs": [
    {
     "data": {
      "text/html": [
       "<div>\n",
       "<style scoped>\n",
       "    .dataframe tbody tr th:only-of-type {\n",
       "        vertical-align: middle;\n",
       "    }\n",
       "\n",
       "    .dataframe tbody tr th {\n",
       "        vertical-align: top;\n",
       "    }\n",
       "\n",
       "    .dataframe thead th {\n",
       "        text-align: right;\n",
       "    }\n",
       "</style>\n",
       "<table border=\"1\" class=\"dataframe\">\n",
       "  <thead>\n",
       "    <tr style=\"text-align: right;\">\n",
       "      <th></th>\n",
       "      <th>id</th>\n",
       "      <th>campaign_id</th>\n",
       "      <th>coupon_id</th>\n",
       "      <th>customer_id</th>\n",
       "      <th>redemption_status</th>\n",
       "    </tr>\n",
       "  </thead>\n",
       "  <tbody>\n",
       "    <tr>\n",
       "      <th>0</th>\n",
       "      <td>1</td>\n",
       "      <td>13</td>\n",
       "      <td>27</td>\n",
       "      <td>1053</td>\n",
       "      <td>0</td>\n",
       "    </tr>\n",
       "    <tr>\n",
       "      <th>1</th>\n",
       "      <td>2</td>\n",
       "      <td>13</td>\n",
       "      <td>116</td>\n",
       "      <td>48</td>\n",
       "      <td>0</td>\n",
       "    </tr>\n",
       "    <tr>\n",
       "      <th>2</th>\n",
       "      <td>6</td>\n",
       "      <td>9</td>\n",
       "      <td>635</td>\n",
       "      <td>205</td>\n",
       "      <td>0</td>\n",
       "    </tr>\n",
       "    <tr>\n",
       "      <th>3</th>\n",
       "      <td>7</td>\n",
       "      <td>13</td>\n",
       "      <td>644</td>\n",
       "      <td>1050</td>\n",
       "      <td>0</td>\n",
       "    </tr>\n",
       "    <tr>\n",
       "      <th>4</th>\n",
       "      <td>9</td>\n",
       "      <td>8</td>\n",
       "      <td>1017</td>\n",
       "      <td>1489</td>\n",
       "      <td>0</td>\n",
       "    </tr>\n",
       "  </tbody>\n",
       "</table>\n",
       "</div>"
      ],
      "text/plain": [
       "   id  campaign_id  coupon_id  customer_id  redemption_status\n",
       "0   1           13         27         1053                  0\n",
       "1   2           13        116           48                  0\n",
       "2   6            9        635          205                  0\n",
       "3   7           13        644         1050                  0\n",
       "4   9            8       1017         1489                  0"
      ]
     },
     "execution_count": 20,
     "metadata": {},
     "output_type": "execute_result"
    }
   ],
   "source": [
    "train_data.head()   #printing the first five rows of the dataset"
   ]
  },
  {
   "cell_type": "code",
   "execution_count": 21,
   "id": "04b27faf",
   "metadata": {},
   "outputs": [
    {
     "data": {
      "text/html": [
       "<div>\n",
       "<style scoped>\n",
       "    .dataframe tbody tr th:only-of-type {\n",
       "        vertical-align: middle;\n",
       "    }\n",
       "\n",
       "    .dataframe tbody tr th {\n",
       "        vertical-align: top;\n",
       "    }\n",
       "\n",
       "    .dataframe thead th {\n",
       "        text-align: right;\n",
       "    }\n",
       "</style>\n",
       "<table border=\"1\" class=\"dataframe\">\n",
       "  <thead>\n",
       "    <tr style=\"text-align: right;\">\n",
       "      <th></th>\n",
       "      <th>id</th>\n",
       "      <th>campaign_id</th>\n",
       "      <th>coupon_id</th>\n",
       "      <th>customer_id</th>\n",
       "      <th>redemption_status</th>\n",
       "    </tr>\n",
       "  </thead>\n",
       "  <tbody>\n",
       "    <tr>\n",
       "      <th>78364</th>\n",
       "      <td>128587</td>\n",
       "      <td>8</td>\n",
       "      <td>71</td>\n",
       "      <td>1523</td>\n",
       "      <td>0</td>\n",
       "    </tr>\n",
       "    <tr>\n",
       "      <th>78365</th>\n",
       "      <td>128589</td>\n",
       "      <td>30</td>\n",
       "      <td>547</td>\n",
       "      <td>937</td>\n",
       "      <td>0</td>\n",
       "    </tr>\n",
       "    <tr>\n",
       "      <th>78366</th>\n",
       "      <td>128590</td>\n",
       "      <td>8</td>\n",
       "      <td>754</td>\n",
       "      <td>1004</td>\n",
       "      <td>0</td>\n",
       "    </tr>\n",
       "    <tr>\n",
       "      <th>78367</th>\n",
       "      <td>128592</td>\n",
       "      <td>13</td>\n",
       "      <td>134</td>\n",
       "      <td>71</td>\n",
       "      <td>0</td>\n",
       "    </tr>\n",
       "    <tr>\n",
       "      <th>78368</th>\n",
       "      <td>128595</td>\n",
       "      <td>13</td>\n",
       "      <td>681</td>\n",
       "      <td>623</td>\n",
       "      <td>0</td>\n",
       "    </tr>\n",
       "  </tbody>\n",
       "</table>\n",
       "</div>"
      ],
      "text/plain": [
       "           id  campaign_id  coupon_id  customer_id  redemption_status\n",
       "78364  128587            8         71         1523                  0\n",
       "78365  128589           30        547          937                  0\n",
       "78366  128590            8        754         1004                  0\n",
       "78367  128592           13        134           71                  0\n",
       "78368  128595           13        681          623                  0"
      ]
     },
     "execution_count": 21,
     "metadata": {},
     "output_type": "execute_result"
    }
   ],
   "source": [
    "train_data.tail()   #printing the last five rows of the dataset"
   ]
  },
  {
   "cell_type": "code",
   "execution_count": 22,
   "id": "6ce361a2",
   "metadata": {},
   "outputs": [
    {
     "data": {
      "text/plain": [
       "(78369, 5)"
      ]
     },
     "execution_count": 22,
     "metadata": {},
     "output_type": "execute_result"
    }
   ],
   "source": [
    "train_data.shape      #the item data set have total 74066 rows and 4 columns"
   ]
  },
  {
   "cell_type": "code",
   "execution_count": 23,
   "id": "462d3b1b",
   "metadata": {},
   "outputs": [
    {
     "name": "stdout",
     "output_type": "stream",
     "text": [
      "<class 'pandas.core.frame.DataFrame'>\n",
      "RangeIndex: 78369 entries, 0 to 78368\n",
      "Data columns (total 5 columns):\n",
      " #   Column             Non-Null Count  Dtype\n",
      "---  ------             --------------  -----\n",
      " 0   id                 78369 non-null  int64\n",
      " 1   campaign_id        78369 non-null  int64\n",
      " 2   coupon_id          78369 non-null  int64\n",
      " 3   customer_id        78369 non-null  int64\n",
      " 4   redemption_status  78369 non-null  int64\n",
      "dtypes: int64(5)\n",
      "memory usage: 3.0 MB\n"
     ]
    }
   ],
   "source": [
    "train_data.info()      #some basic informations of the item dataset"
   ]
  },
  {
   "cell_type": "code",
   "execution_count": 24,
   "id": "8a19b353",
   "metadata": {},
   "outputs": [
    {
     "data": {
      "text/plain": [
       "id                   78369\n",
       "campaign_id             18\n",
       "coupon_id              866\n",
       "customer_id           1428\n",
       "redemption_status        2\n",
       "dtype: int64"
      ]
     },
     "execution_count": 24,
     "metadata": {},
     "output_type": "execute_result"
    }
   ],
   "source": [
    "train_data.nunique()     #no of unique values in columns of the item dataset"
   ]
  },
  {
   "cell_type": "code",
   "execution_count": 25,
   "id": "29c9ef07",
   "metadata": {},
   "outputs": [
    {
     "data": {
      "text/html": [
       "<div>\n",
       "<style scoped>\n",
       "    .dataframe tbody tr th:only-of-type {\n",
       "        vertical-align: middle;\n",
       "    }\n",
       "\n",
       "    .dataframe tbody tr th {\n",
       "        vertical-align: top;\n",
       "    }\n",
       "\n",
       "    .dataframe thead th {\n",
       "        text-align: right;\n",
       "    }\n",
       "</style>\n",
       "<table border=\"1\" class=\"dataframe\">\n",
       "  <thead>\n",
       "    <tr style=\"text-align: right;\">\n",
       "      <th></th>\n",
       "      <th>id</th>\n",
       "      <th>campaign_id</th>\n",
       "      <th>coupon_id</th>\n",
       "      <th>customer_id</th>\n",
       "      <th>redemption_status</th>\n",
       "    </tr>\n",
       "  </thead>\n",
       "  <tbody>\n",
       "    <tr>\n",
       "      <th>count</th>\n",
       "      <td>78369.000000</td>\n",
       "      <td>78369.000000</td>\n",
       "      <td>78369.000000</td>\n",
       "      <td>78369.000000</td>\n",
       "      <td>78369.000000</td>\n",
       "    </tr>\n",
       "    <tr>\n",
       "      <th>mean</th>\n",
       "      <td>64347.975449</td>\n",
       "      <td>13.974441</td>\n",
       "      <td>566.363243</td>\n",
       "      <td>787.451888</td>\n",
       "      <td>0.009302</td>\n",
       "    </tr>\n",
       "    <tr>\n",
       "      <th>std</th>\n",
       "      <td>37126.440855</td>\n",
       "      <td>8.019215</td>\n",
       "      <td>329.966054</td>\n",
       "      <td>456.811339</td>\n",
       "      <td>0.095999</td>\n",
       "    </tr>\n",
       "    <tr>\n",
       "      <th>min</th>\n",
       "      <td>1.000000</td>\n",
       "      <td>1.000000</td>\n",
       "      <td>1.000000</td>\n",
       "      <td>1.000000</td>\n",
       "      <td>0.000000</td>\n",
       "    </tr>\n",
       "    <tr>\n",
       "      <th>25%</th>\n",
       "      <td>32260.000000</td>\n",
       "      <td>8.000000</td>\n",
       "      <td>280.000000</td>\n",
       "      <td>399.000000</td>\n",
       "      <td>0.000000</td>\n",
       "    </tr>\n",
       "    <tr>\n",
       "      <th>50%</th>\n",
       "      <td>64318.000000</td>\n",
       "      <td>13.000000</td>\n",
       "      <td>597.000000</td>\n",
       "      <td>781.000000</td>\n",
       "      <td>0.000000</td>\n",
       "    </tr>\n",
       "    <tr>\n",
       "      <th>75%</th>\n",
       "      <td>96577.000000</td>\n",
       "      <td>13.000000</td>\n",
       "      <td>857.000000</td>\n",
       "      <td>1190.000000</td>\n",
       "      <td>0.000000</td>\n",
       "    </tr>\n",
       "    <tr>\n",
       "      <th>max</th>\n",
       "      <td>128595.000000</td>\n",
       "      <td>30.000000</td>\n",
       "      <td>1115.000000</td>\n",
       "      <td>1582.000000</td>\n",
       "      <td>1.000000</td>\n",
       "    </tr>\n",
       "  </tbody>\n",
       "</table>\n",
       "</div>"
      ],
      "text/plain": [
       "                  id   campaign_id     coupon_id   customer_id  \\\n",
       "count   78369.000000  78369.000000  78369.000000  78369.000000   \n",
       "mean    64347.975449     13.974441    566.363243    787.451888   \n",
       "std     37126.440855      8.019215    329.966054    456.811339   \n",
       "min         1.000000      1.000000      1.000000      1.000000   \n",
       "25%     32260.000000      8.000000    280.000000    399.000000   \n",
       "50%     64318.000000     13.000000    597.000000    781.000000   \n",
       "75%     96577.000000     13.000000    857.000000   1190.000000   \n",
       "max    128595.000000     30.000000   1115.000000   1582.000000   \n",
       "\n",
       "       redemption_status  \n",
       "count       78369.000000  \n",
       "mean            0.009302  \n",
       "std             0.095999  \n",
       "min             0.000000  \n",
       "25%             0.000000  \n",
       "50%             0.000000  \n",
       "75%             0.000000  \n",
       "max             1.000000  "
      ]
     },
     "execution_count": 25,
     "metadata": {},
     "output_type": "execute_result"
    }
   ],
   "source": [
    "train_data.describe()   #statstics values of the dataset"
   ]
  },
  {
   "cell_type": "code",
   "execution_count": 26,
   "id": "42b5d999",
   "metadata": {},
   "outputs": [
    {
     "data": {
      "text/plain": [
       "array([[<AxesSubplot:title={'center':'id'}>,\n",
       "        <AxesSubplot:title={'center':'campaign_id'}>],\n",
       "       [<AxesSubplot:title={'center':'coupon_id'}>,\n",
       "        <AxesSubplot:title={'center':'customer_id'}>],\n",
       "       [<AxesSubplot:title={'center':'redemption_status'}>,\n",
       "        <AxesSubplot:>]], dtype=object)"
      ]
     },
     "execution_count": 26,
     "metadata": {},
     "output_type": "execute_result"
    },
    {
     "data": {
      "image/png": "[encoded data removed]",
      "text/plain": [
       "<Figure size 1600x1200 with 6 Axes>"
      ]
     },
     "metadata": {},
     "output_type": "display_data"
    }
   ],
   "source": [
    " train_data.hist(figsize=(16, 12))"
   ]
  },
  {
   "cell_type": "code",
   "execution_count": 27,
   "id": "c861e581",
   "metadata": {},
   "outputs": [
    {
     "data": {
      "text/html": [
       "<div>\n",
       "<style scoped>\n",
       "    .dataframe tbody tr th:only-of-type {\n",
       "        vertical-align: middle;\n",
       "    }\n",
       "\n",
       "    .dataframe tbody tr th {\n",
       "        vertical-align: top;\n",
       "    }\n",
       "\n",
       "    .dataframe thead th {\n",
       "        text-align: right;\n",
       "    }\n",
       "</style>\n",
       "<table border=\"1\" class=\"dataframe\">\n",
       "  <thead>\n",
       "    <tr style=\"text-align: right;\">\n",
       "      <th></th>\n",
       "      <th>id</th>\n",
       "      <th>campaign_id</th>\n",
       "      <th>coupon_id</th>\n",
       "      <th>customer_id</th>\n",
       "      <th>redemption_status</th>\n",
       "    </tr>\n",
       "  </thead>\n",
       "  <tbody>\n",
       "    <tr>\n",
       "      <th>id</th>\n",
       "      <td>1.000000</td>\n",
       "      <td>0.006443</td>\n",
       "      <td>-0.001067</td>\n",
       "      <td>-0.000088</td>\n",
       "      <td>-0.000328</td>\n",
       "    </tr>\n",
       "    <tr>\n",
       "      <th>campaign_id</th>\n",
       "      <td>0.006443</td>\n",
       "      <td>1.000000</td>\n",
       "      <td>0.102046</td>\n",
       "      <td>-0.003556</td>\n",
       "      <td>-0.007548</td>\n",
       "    </tr>\n",
       "    <tr>\n",
       "      <th>coupon_id</th>\n",
       "      <td>-0.001067</td>\n",
       "      <td>0.102046</td>\n",
       "      <td>1.000000</td>\n",
       "      <td>0.007551</td>\n",
       "      <td>0.023334</td>\n",
       "    </tr>\n",
       "    <tr>\n",
       "      <th>customer_id</th>\n",
       "      <td>-0.000088</td>\n",
       "      <td>-0.003556</td>\n",
       "      <td>0.007551</td>\n",
       "      <td>1.000000</td>\n",
       "      <td>0.011690</td>\n",
       "    </tr>\n",
       "    <tr>\n",
       "      <th>redemption_status</th>\n",
       "      <td>-0.000328</td>\n",
       "      <td>-0.007548</td>\n",
       "      <td>0.023334</td>\n",
       "      <td>0.011690</td>\n",
       "      <td>1.000000</td>\n",
       "    </tr>\n",
       "  </tbody>\n",
       "</table>\n",
       "</div>"
      ],
      "text/plain": [
       "                         id  campaign_id  coupon_id  customer_id  \\\n",
       "id                 1.000000     0.006443  -0.001067    -0.000088   \n",
       "campaign_id        0.006443     1.000000   0.102046    -0.003556   \n",
       "coupon_id         -0.001067     0.102046   1.000000     0.007551   \n",
       "customer_id       -0.000088    -0.003556   0.007551     1.000000   \n",
       "redemption_status -0.000328    -0.007548   0.023334     0.011690   \n",
       "\n",
       "                   redemption_status  \n",
       "id                         -0.000328  \n",
       "campaign_id                -0.007548  \n",
       "coupon_id                   0.023334  \n",
       "customer_id                 0.011690  \n",
       "redemption_status           1.000000  "
      ]
     },
     "execution_count": 27,
     "metadata": {},
     "output_type": "execute_result"
    }
   ],
   "source": [
    "train_data.corr()"
   ]
  },
  {
   "cell_type": "code",
   "execution_count": 28,
   "id": "cd569d9b",
   "metadata": {},
   "outputs": [
    {
     "data": {
      "text/plain": [
       "['id', 'campaign_id', 'coupon_id', 'customer_id', 'redemption_status']"
      ]
     },
     "execution_count": 28,
     "metadata": {},
     "output_type": "execute_result"
    }
   ],
   "source": [
    "train_data_columns=list(train_data.columns)\n",
    "train_data_columns   #printing the all columns names of the dataset"
   ]
  },
  {
   "cell_type": "code",
   "execution_count": 29,
   "id": "692e1b77",
   "metadata": {},
   "outputs": [
    {
     "data": {
      "text/plain": [
       "array([[     1,     13,     27,   1053,      0],\n",
       "       [     2,     13,    116,     48,      0],\n",
       "       [     6,      9,    635,    205,      0],\n",
       "       ...,\n",
       "       [128590,      8,    754,   1004,      0],\n",
       "       [128592,     13,    134,     71,      0],\n",
       "       [128595,     13,    681,    623,      0]], dtype=int64)"
      ]
     },
     "execution_count": 29,
     "metadata": {},
     "output_type": "execute_result"
    }
   ],
   "source": [
    "train_data_values=train_data.values\n",
    "train_data_values  #printing the all values the of the dataset"
   ]
  },
  {
   "cell_type": "code",
   "execution_count": 30,
   "id": "8bdc3bb8",
   "metadata": {},
   "outputs": [
    {
     "data": {
      "text/plain": [
       "705     570\n",
       "470     447\n",
       "691     405\n",
       "468     366\n",
       "1043    357\n",
       "       ... \n",
       "404      12\n",
       "398      12\n",
       "389      12\n",
       "823      12\n",
       "1091     12\n",
       "Name: coupon_id, Length: 866, dtype: int64"
      ]
     },
     "execution_count": 30,
     "metadata": {},
     "output_type": "execute_result"
    }
   ],
   "source": [
    "train_data.coupon_id.value_counts()  #count of diffrent element values in the coupan_id column of the dataset"
   ]
  },
  {
   "cell_type": "code",
   "execution_count": 31,
   "id": "15fd4265",
   "metadata": {},
   "outputs": [
    {
     "data": {
      "text/plain": [
       "1463    199\n",
       "590     193\n",
       "189     175\n",
       "1192    173\n",
       "464     171\n",
       "       ... \n",
       "180       8\n",
       "219       8\n",
       "1476      8\n",
       "1354      8\n",
       "618       8\n",
       "Name: customer_id, Length: 1428, dtype: int64"
      ]
     },
     "execution_count": 31,
     "metadata": {},
     "output_type": "execute_result"
    }
   ],
   "source": [
    "train_data.customer_id.value_counts()   #count of diffrent element values in the customer_id column of the dataset"
   ]
  },
  {
   "cell_type": "code",
   "execution_count": 32,
   "id": "29e246c9",
   "metadata": {},
   "outputs": [
    {
     "name": "stdout",
     "output_type": "stream",
     "text": [
      "0        False\n",
      "1        False\n",
      "2        False\n",
      "3        False\n",
      "4        False\n",
      "         ...  \n",
      "78364    False\n",
      "78365    False\n",
      "78366    False\n",
      "78367    False\n",
      "78368    False\n",
      "Length: 78369, dtype: bool\n"
     ]
    }
   ],
   "source": [
    "print(train_data.duplicated())   #finding the duplicate values in the dataset"
   ]
  },
  {
   "cell_type": "code",
   "execution_count": 33,
   "id": "0ad48e5a",
   "metadata": {},
   "outputs": [
    {
     "name": "stdout",
     "output_type": "stream",
     "text": [
      "0\n"
     ]
    }
   ],
   "source": [
    "print(train_data.duplicated().sum())   #counting the duplicate rows in the dataset"
   ]
  },
  {
   "cell_type": "code",
   "execution_count": 34,
   "id": "d50a64e1",
   "metadata": {},
   "outputs": [
    {
     "data": {
      "text/plain": [
       "id                   0\n",
       "campaign_id          0\n",
       "coupon_id            0\n",
       "customer_id          0\n",
       "redemption_status    0\n",
       "dtype: int64"
      ]
     },
     "execution_count": 34,
     "metadata": {},
     "output_type": "execute_result"
    }
   ],
   "source": [
    "train_data.isnull().sum()  #counting the all null values in the dataset"
   ]
  },
  {
   "cell_type": "code",
   "execution_count": null,
   "id": "affe598f",
   "metadata": {},
   "outputs": [],
   "source": []
  },
  {
   "cell_type": "markdown",
   "id": "93b8e051",
   "metadata": {},
   "source": [
    "# 3.DATA ANALYSIS OF CUSTOMER TRANSACTION DATASET"
   ]
  },
  {
   "cell_type": "code",
   "execution_count": 35,
   "id": "7e88880a",
   "metadata": {},
   "outputs": [],
   "source": [
    "cust_tran_data = pd.read_csv('customer_transaction_data.csv')  #loading the dataset"
   ]
  },
  {
   "cell_type": "code",
   "execution_count": 36,
   "id": "b9509500",
   "metadata": {},
   "outputs": [
    {
     "data": {
      "text/html": [
       "<div>\n",
       "<style scoped>\n",
       "    .dataframe tbody tr th:only-of-type {\n",
       "        vertical-align: middle;\n",
       "    }\n",
       "\n",
       "    .dataframe tbody tr th {\n",
       "        vertical-align: top;\n",
       "    }\n",
       "\n",
       "    .dataframe thead th {\n",
       "        text-align: right;\n",
       "    }\n",
       "</style>\n",
       "<table border=\"1\" class=\"dataframe\">\n",
       "  <thead>\n",
       "    <tr style=\"text-align: right;\">\n",
       "      <th></th>\n",
       "      <th>date</th>\n",
       "      <th>customer_id</th>\n",
       "      <th>item_id</th>\n",
       "      <th>quantity</th>\n",
       "      <th>selling_price</th>\n",
       "      <th>other_discount</th>\n",
       "      <th>coupon_discount</th>\n",
       "    </tr>\n",
       "  </thead>\n",
       "  <tbody>\n",
       "    <tr>\n",
       "      <th>0</th>\n",
       "      <td>2012-01-02</td>\n",
       "      <td>1501</td>\n",
       "      <td>26830</td>\n",
       "      <td>1</td>\n",
       "      <td>35.26</td>\n",
       "      <td>-10.69</td>\n",
       "      <td>0.0</td>\n",
       "    </tr>\n",
       "    <tr>\n",
       "      <th>1</th>\n",
       "      <td>2012-01-02</td>\n",
       "      <td>1501</td>\n",
       "      <td>54253</td>\n",
       "      <td>1</td>\n",
       "      <td>53.43</td>\n",
       "      <td>-13.89</td>\n",
       "      <td>0.0</td>\n",
       "    </tr>\n",
       "    <tr>\n",
       "      <th>2</th>\n",
       "      <td>2012-01-02</td>\n",
       "      <td>1501</td>\n",
       "      <td>31962</td>\n",
       "      <td>1</td>\n",
       "      <td>106.50</td>\n",
       "      <td>-14.25</td>\n",
       "      <td>0.0</td>\n",
       "    </tr>\n",
       "    <tr>\n",
       "      <th>3</th>\n",
       "      <td>2012-01-02</td>\n",
       "      <td>1501</td>\n",
       "      <td>33647</td>\n",
       "      <td>1</td>\n",
       "      <td>67.32</td>\n",
       "      <td>0.00</td>\n",
       "      <td>0.0</td>\n",
       "    </tr>\n",
       "    <tr>\n",
       "      <th>4</th>\n",
       "      <td>2012-01-02</td>\n",
       "      <td>1501</td>\n",
       "      <td>48199</td>\n",
       "      <td>1</td>\n",
       "      <td>71.24</td>\n",
       "      <td>-28.14</td>\n",
       "      <td>0.0</td>\n",
       "    </tr>\n",
       "  </tbody>\n",
       "</table>\n",
       "</div>"
      ],
      "text/plain": [
       "         date  customer_id  item_id  quantity  selling_price  other_discount  \\\n",
       "0  2012-01-02         1501    26830         1          35.26          -10.69   \n",
       "1  2012-01-02         1501    54253         1          53.43          -13.89   \n",
       "2  2012-01-02         1501    31962         1         106.50          -14.25   \n",
       "3  2012-01-02         1501    33647         1          67.32            0.00   \n",
       "4  2012-01-02         1501    48199         1          71.24          -28.14   \n",
       "\n",
       "   coupon_discount  \n",
       "0              0.0  \n",
       "1              0.0  \n",
       "2              0.0  \n",
       "3              0.0  \n",
       "4              0.0  "
      ]
     },
     "execution_count": 36,
     "metadata": {},
     "output_type": "execute_result"
    }
   ],
   "source": [
    "cust_tran_data.head()   #printing the first five rows of the dataset"
   ]
  },
  {
   "cell_type": "code",
   "execution_count": 37,
   "id": "e02ffa06",
   "metadata": {},
   "outputs": [
    {
     "data": {
      "text/html": [
       "<div>\n",
       "<style scoped>\n",
       "    .dataframe tbody tr th:only-of-type {\n",
       "        vertical-align: middle;\n",
       "    }\n",
       "\n",
       "    .dataframe tbody tr th {\n",
       "        vertical-align: top;\n",
       "    }\n",
       "\n",
       "    .dataframe thead th {\n",
       "        text-align: right;\n",
       "    }\n",
       "</style>\n",
       "<table border=\"1\" class=\"dataframe\">\n",
       "  <thead>\n",
       "    <tr style=\"text-align: right;\">\n",
       "      <th></th>\n",
       "      <th>date</th>\n",
       "      <th>customer_id</th>\n",
       "      <th>item_id</th>\n",
       "      <th>quantity</th>\n",
       "      <th>selling_price</th>\n",
       "      <th>other_discount</th>\n",
       "      <th>coupon_discount</th>\n",
       "    </tr>\n",
       "  </thead>\n",
       "  <tbody>\n",
       "    <tr>\n",
       "      <th>1324561</th>\n",
       "      <td>2013-06-30</td>\n",
       "      <td>1129</td>\n",
       "      <td>2777</td>\n",
       "      <td>1</td>\n",
       "      <td>284.60</td>\n",
       "      <td>-71.24</td>\n",
       "      <td>0.0</td>\n",
       "    </tr>\n",
       "    <tr>\n",
       "      <th>1324562</th>\n",
       "      <td>2013-06-30</td>\n",
       "      <td>1129</td>\n",
       "      <td>2953</td>\n",
       "      <td>4</td>\n",
       "      <td>42.74</td>\n",
       "      <td>-28.50</td>\n",
       "      <td>0.0</td>\n",
       "    </tr>\n",
       "    <tr>\n",
       "      <th>1324563</th>\n",
       "      <td>2013-06-30</td>\n",
       "      <td>1129</td>\n",
       "      <td>2971</td>\n",
       "      <td>6</td>\n",
       "      <td>64.12</td>\n",
       "      <td>-42.74</td>\n",
       "      <td>0.0</td>\n",
       "    </tr>\n",
       "    <tr>\n",
       "      <th>1324564</th>\n",
       "      <td>2013-06-30</td>\n",
       "      <td>1129</td>\n",
       "      <td>46984</td>\n",
       "      <td>1</td>\n",
       "      <td>95.82</td>\n",
       "      <td>0.00</td>\n",
       "      <td>0.0</td>\n",
       "    </tr>\n",
       "    <tr>\n",
       "      <th>1324565</th>\n",
       "      <td>2013-06-30</td>\n",
       "      <td>1129</td>\n",
       "      <td>64498</td>\n",
       "      <td>2</td>\n",
       "      <td>489.78</td>\n",
       "      <td>0.00</td>\n",
       "      <td>0.0</td>\n",
       "    </tr>\n",
       "  </tbody>\n",
       "</table>\n",
       "</div>"
      ],
      "text/plain": [
       "               date  customer_id  item_id  quantity  selling_price  \\\n",
       "1324561  2013-06-30         1129     2777         1         284.60   \n",
       "1324562  2013-06-30         1129     2953         4          42.74   \n",
       "1324563  2013-06-30         1129     2971         6          64.12   \n",
       "1324564  2013-06-30         1129    46984         1          95.82   \n",
       "1324565  2013-06-30         1129    64498         2         489.78   \n",
       "\n",
       "         other_discount  coupon_discount  \n",
       "1324561          -71.24              0.0  \n",
       "1324562          -28.50              0.0  \n",
       "1324563          -42.74              0.0  \n",
       "1324564            0.00              0.0  \n",
       "1324565            0.00              0.0  "
      ]
     },
     "execution_count": 37,
     "metadata": {},
     "output_type": "execute_result"
    }
   ],
   "source": [
    "cust_tran_data.tail() #printing the last five rows of the dataset"
   ]
  },
  {
   "cell_type": "code",
   "execution_count": 38,
   "id": "a364c8e2",
   "metadata": {},
   "outputs": [
    {
     "name": "stdout",
     "output_type": "stream",
     "text": [
      "<class 'pandas.core.frame.DataFrame'>\n",
      "RangeIndex: 1324566 entries, 0 to 1324565\n",
      "Data columns (total 7 columns):\n",
      " #   Column           Non-Null Count    Dtype  \n",
      "---  ------           --------------    -----  \n",
      " 0   date             1324566 non-null  object \n",
      " 1   customer_id      1324566 non-null  int64  \n",
      " 2   item_id          1324566 non-null  int64  \n",
      " 3   quantity         1324566 non-null  int64  \n",
      " 4   selling_price    1324566 non-null  float64\n",
      " 5   other_discount   1324566 non-null  float64\n",
      " 6   coupon_discount  1324566 non-null  float64\n",
      "dtypes: float64(3), int64(3), object(1)\n",
      "memory usage: 70.7+ MB\n"
     ]
    }
   ],
   "source": [
    "cust_tran_data.info()          #some basic informations of the item dataset"
   ]
  },
  {
   "cell_type": "code",
   "execution_count": 39,
   "id": "26bb8ab3",
   "metadata": {},
   "outputs": [
    {
     "data": {
      "text/plain": [
       "(1324566, 7)"
      ]
     },
     "execution_count": 39,
     "metadata": {},
     "output_type": "execute_result"
    }
   ],
   "source": [
    "cust_tran_data.shape          #the item data set have total 1324566 rows and 7 columns"
   ]
  },
  {
   "cell_type": "code",
   "execution_count": 40,
   "id": "50085d0a",
   "metadata": {},
   "outputs": [
    {
     "data": {
      "text/plain": [
       "date                 549\n",
       "customer_id         1582\n",
       "item_id            74063\n",
       "quantity            9252\n",
       "selling_price       4923\n",
       "other_discount      1418\n",
       "coupon_discount      232\n",
       "dtype: int64"
      ]
     },
     "execution_count": 40,
     "metadata": {},
     "output_type": "execute_result"
    }
   ],
   "source": [
    "cust_tran_data.nunique()     #no of unique values in columns of the item dataset"
   ]
  },
  {
   "cell_type": "code",
   "execution_count": 41,
   "id": "21371b80",
   "metadata": {},
   "outputs": [
    {
     "data": {
      "text/html": [
       "<div>\n",
       "<style scoped>\n",
       "    .dataframe tbody tr th:only-of-type {\n",
       "        vertical-align: middle;\n",
       "    }\n",
       "\n",
       "    .dataframe tbody tr th {\n",
       "        vertical-align: top;\n",
       "    }\n",
       "\n",
       "    .dataframe thead th {\n",
       "        text-align: right;\n",
       "    }\n",
       "</style>\n",
       "<table border=\"1\" class=\"dataframe\">\n",
       "  <thead>\n",
       "    <tr style=\"text-align: right;\">\n",
       "      <th></th>\n",
       "      <th>customer_id</th>\n",
       "      <th>item_id</th>\n",
       "      <th>quantity</th>\n",
       "      <th>selling_price</th>\n",
       "      <th>other_discount</th>\n",
       "      <th>coupon_discount</th>\n",
       "    </tr>\n",
       "  </thead>\n",
       "  <tbody>\n",
       "    <tr>\n",
       "      <th>count</th>\n",
       "      <td>1.324566e+06</td>\n",
       "      <td>1.324566e+06</td>\n",
       "      <td>1.324566e+06</td>\n",
       "      <td>1.324566e+06</td>\n",
       "      <td>1.324566e+06</td>\n",
       "      <td>1.324566e+06</td>\n",
       "    </tr>\n",
       "    <tr>\n",
       "      <th>mean</th>\n",
       "      <td>8.040020e+02</td>\n",
       "      <td>2.951903e+04</td>\n",
       "      <td>1.306633e+02</td>\n",
       "      <td>1.146036e+02</td>\n",
       "      <td>-1.776871e+01</td>\n",
       "      <td>-5.948983e-01</td>\n",
       "    </tr>\n",
       "    <tr>\n",
       "      <th>std</th>\n",
       "      <td>4.573363e+02</td>\n",
       "      <td>1.790806e+04</td>\n",
       "      <td>1.311545e+03</td>\n",
       "      <td>1.529053e+02</td>\n",
       "      <td>3.788867e+01</td>\n",
       "      <td>7.069367e+00</td>\n",
       "    </tr>\n",
       "    <tr>\n",
       "      <th>min</th>\n",
       "      <td>1.000000e+00</td>\n",
       "      <td>1.000000e+00</td>\n",
       "      <td>1.000000e+00</td>\n",
       "      <td>3.600000e-01</td>\n",
       "      <td>-3.120310e+03</td>\n",
       "      <td>-1.992230e+03</td>\n",
       "    </tr>\n",
       "    <tr>\n",
       "      <th>25%</th>\n",
       "      <td>4.180000e+02</td>\n",
       "      <td>1.468400e+04</td>\n",
       "      <td>1.000000e+00</td>\n",
       "      <td>4.916000e+01</td>\n",
       "      <td>-2.315000e+01</td>\n",
       "      <td>0.000000e+00</td>\n",
       "    </tr>\n",
       "    <tr>\n",
       "      <th>50%</th>\n",
       "      <td>8.010000e+02</td>\n",
       "      <td>2.659700e+04</td>\n",
       "      <td>1.000000e+00</td>\n",
       "      <td>7.801000e+01</td>\n",
       "      <td>-1.780000e+00</td>\n",
       "      <td>0.000000e+00</td>\n",
       "    </tr>\n",
       "    <tr>\n",
       "      <th>75%</th>\n",
       "      <td>1.198000e+03</td>\n",
       "      <td>4.240575e+04</td>\n",
       "      <td>1.000000e+00</td>\n",
       "      <td>1.243100e+02</td>\n",
       "      <td>0.000000e+00</td>\n",
       "      <td>0.000000e+00</td>\n",
       "    </tr>\n",
       "    <tr>\n",
       "      <th>max</th>\n",
       "      <td>1.582000e+03</td>\n",
       "      <td>7.406600e+04</td>\n",
       "      <td>8.963800e+04</td>\n",
       "      <td>1.780964e+04</td>\n",
       "      <td>0.000000e+00</td>\n",
       "      <td>0.000000e+00</td>\n",
       "    </tr>\n",
       "  </tbody>\n",
       "</table>\n",
       "</div>"
      ],
      "text/plain": [
       "        customer_id       item_id      quantity  selling_price  \\\n",
       "count  1.324566e+06  1.324566e+06  1.324566e+06   1.324566e+06   \n",
       "mean   8.040020e+02  2.951903e+04  1.306633e+02   1.146036e+02   \n",
       "std    4.573363e+02  1.790806e+04  1.311545e+03   1.529053e+02   \n",
       "min    1.000000e+00  1.000000e+00  1.000000e+00   3.600000e-01   \n",
       "25%    4.180000e+02  1.468400e+04  1.000000e+00   4.916000e+01   \n",
       "50%    8.010000e+02  2.659700e+04  1.000000e+00   7.801000e+01   \n",
       "75%    1.198000e+03  4.240575e+04  1.000000e+00   1.243100e+02   \n",
       "max    1.582000e+03  7.406600e+04  8.963800e+04   1.780964e+04   \n",
       "\n",
       "       other_discount  coupon_discount  \n",
       "count    1.324566e+06     1.324566e+06  \n",
       "mean    -1.776871e+01    -5.948983e-01  \n",
       "std      3.788867e+01     7.069367e+00  \n",
       "min     -3.120310e+03    -1.992230e+03  \n",
       "25%     -2.315000e+01     0.000000e+00  \n",
       "50%     -1.780000e+00     0.000000e+00  \n",
       "75%      0.000000e+00     0.000000e+00  \n",
       "max      0.000000e+00     0.000000e+00  "
      ]
     },
     "execution_count": 41,
     "metadata": {},
     "output_type": "execute_result"
    }
   ],
   "source": [
    " cust_tran_data.describe()    #statstics values of the dataset"
   ]
  },
  {
   "cell_type": "code",
   "execution_count": 42,
   "id": "ca6491c9",
   "metadata": {},
   "outputs": [
    {
     "data": {
      "text/plain": [
       "array([[<AxesSubplot:title={'center':'customer_id'}>,\n",
       "        <AxesSubplot:title={'center':'item_id'}>],\n",
       "       [<AxesSubplot:title={'center':'quantity'}>,\n",
       "        <AxesSubplot:title={'center':'selling_price'}>],\n",
       "       [<AxesSubplot:title={'center':'other_discount'}>,\n",
       "        <AxesSubplot:title={'center':'coupon_discount'}>]], dtype=object)"
      ]
     },
     "execution_count": 42,
     "metadata": {},
     "output_type": "execute_result"
    },
    {
     "data": {
      "image/png": "[encoded data removed]",
      "text/plain": [
       "<Figure size 1600x1200 with 6 Axes>"
      ]
     },
     "metadata": {},
     "output_type": "display_data"
    }
   ],
   "source": [
    " cust_tran_data.hist(figsize=(16, 12))"
   ]
  },
  {
   "cell_type": "code",
   "execution_count": 43,
   "id": "4fe59c16",
   "metadata": {},
   "outputs": [
    {
     "data": {
      "text/html": [
       "<div>\n",
       "<style scoped>\n",
       "    .dataframe tbody tr th:only-of-type {\n",
       "        vertical-align: middle;\n",
       "    }\n",
       "\n",
       "    .dataframe tbody tr th {\n",
       "        vertical-align: top;\n",
       "    }\n",
       "\n",
       "    .dataframe thead th {\n",
       "        text-align: right;\n",
       "    }\n",
       "</style>\n",
       "<table border=\"1\" class=\"dataframe\">\n",
       "  <thead>\n",
       "    <tr style=\"text-align: right;\">\n",
       "      <th></th>\n",
       "      <th>customer_id</th>\n",
       "      <th>item_id</th>\n",
       "      <th>quantity</th>\n",
       "      <th>selling_price</th>\n",
       "      <th>other_discount</th>\n",
       "      <th>coupon_discount</th>\n",
       "    </tr>\n",
       "  </thead>\n",
       "  <tbody>\n",
       "    <tr>\n",
       "      <th>customer_id</th>\n",
       "      <td>1.000000</td>\n",
       "      <td>0.002864</td>\n",
       "      <td>0.000016</td>\n",
       "      <td>0.004312</td>\n",
       "      <td>-0.004015</td>\n",
       "      <td>-0.001199</td>\n",
       "    </tr>\n",
       "    <tr>\n",
       "      <th>item_id</th>\n",
       "      <td>0.002864</td>\n",
       "      <td>1.000000</td>\n",
       "      <td>0.105149</td>\n",
       "      <td>0.126384</td>\n",
       "      <td>-0.051793</td>\n",
       "      <td>-0.031481</td>\n",
       "    </tr>\n",
       "    <tr>\n",
       "      <th>quantity</th>\n",
       "      <td>0.000016</td>\n",
       "      <td>0.105149</td>\n",
       "      <td>1.000000</td>\n",
       "      <td>0.672741</td>\n",
       "      <td>-0.056818</td>\n",
       "      <td>0.008266</td>\n",
       "    </tr>\n",
       "    <tr>\n",
       "      <th>selling_price</th>\n",
       "      <td>0.004312</td>\n",
       "      <td>0.126384</td>\n",
       "      <td>0.672741</td>\n",
       "      <td>1.000000</td>\n",
       "      <td>-0.246314</td>\n",
       "      <td>-0.080278</td>\n",
       "    </tr>\n",
       "    <tr>\n",
       "      <th>other_discount</th>\n",
       "      <td>-0.004015</td>\n",
       "      <td>-0.051793</td>\n",
       "      <td>-0.056818</td>\n",
       "      <td>-0.246314</td>\n",
       "      <td>1.000000</td>\n",
       "      <td>0.109624</td>\n",
       "    </tr>\n",
       "    <tr>\n",
       "      <th>coupon_discount</th>\n",
       "      <td>-0.001199</td>\n",
       "      <td>-0.031481</td>\n",
       "      <td>0.008266</td>\n",
       "      <td>-0.080278</td>\n",
       "      <td>0.109624</td>\n",
       "      <td>1.000000</td>\n",
       "    </tr>\n",
       "  </tbody>\n",
       "</table>\n",
       "</div>"
      ],
      "text/plain": [
       "                 customer_id   item_id  quantity  selling_price  \\\n",
       "customer_id         1.000000  0.002864  0.000016       0.004312   \n",
       "item_id             0.002864  1.000000  0.105149       0.126384   \n",
       "quantity            0.000016  0.105149  1.000000       0.672741   \n",
       "selling_price       0.004312  0.126384  0.672741       1.000000   \n",
       "other_discount     -0.004015 -0.051793 -0.056818      -0.246314   \n",
       "coupon_discount    -0.001199 -0.031481  0.008266      -0.080278   \n",
       "\n",
       "                 other_discount  coupon_discount  \n",
       "customer_id           -0.004015        -0.001199  \n",
       "item_id               -0.051793        -0.031481  \n",
       "quantity              -0.056818         0.008266  \n",
       "selling_price         -0.246314        -0.080278  \n",
       "other_discount         1.000000         0.109624  \n",
       "coupon_discount        0.109624         1.000000  "
      ]
     },
     "execution_count": 43,
     "metadata": {},
     "output_type": "execute_result"
    }
   ],
   "source": [
    "cust_tran_data.corr()"
   ]
  },
  {
   "cell_type": "code",
   "execution_count": 44,
   "id": "912bb0fa",
   "metadata": {},
   "outputs": [
    {
     "data": {
      "text/plain": [
       "['id', 'campaign_id', 'coupon_id', 'customer_id', 'redemption_status']"
      ]
     },
     "execution_count": 44,
     "metadata": {},
     "output_type": "execute_result"
    }
   ],
   "source": [
    "cust_tran_columns=list(train_data.columns)\n",
    "cust_tran_columns    #printing the columns names of the dataset"
   ]
  },
  {
   "cell_type": "code",
   "execution_count": 45,
   "id": "6feceae3",
   "metadata": {},
   "outputs": [
    {
     "data": {
      "text/plain": [
       "array([[     1,     13,     27,   1053,      0],\n",
       "       [     2,     13,    116,     48,      0],\n",
       "       [     6,      9,    635,    205,      0],\n",
       "       ...,\n",
       "       [128590,      8,    754,   1004,      0],\n",
       "       [128592,     13,    134,     71,      0],\n",
       "       [128595,     13,    681,    623,      0]], dtype=int64)"
      ]
     },
     "execution_count": 45,
     "metadata": {},
     "output_type": "execute_result"
    }
   ],
   "source": [
    "cust_tran_values=train_data.values\n",
    "cust_tran_values   #printing the values of the dataset"
   ]
  },
  {
   "cell_type": "code",
   "execution_count": 46,
   "id": "bbac8637",
   "metadata": {},
   "outputs": [
    {
     "data": {
      "text/plain": [
       "1555    4522\n",
       "711     4173\n",
       "464     4134\n",
       "1475    3945\n",
       "1011    3862\n",
       "        ... \n",
       "1150      87\n",
       "406       83\n",
       "1180      83\n",
       "907       80\n",
       "1326      79\n",
       "Name: customer_id, Length: 1582, dtype: int64"
      ]
     },
     "execution_count": 46,
     "metadata": {},
     "output_type": "execute_result"
    }
   ],
   "source": [
    "cust_tran_data.customer_id.value_counts()  #count of diffrent element values in the customer_id column of the dataset"
   ]
  },
  {
   "cell_type": "code",
   "execution_count": 47,
   "id": "c99178de",
   "metadata": {},
   "outputs": [
    {
     "data": {
      "text/plain": [
       "49009    13540\n",
       "34047     6308\n",
       "13174     3879\n",
       "45502     3292\n",
       "29847     2276\n",
       "         ...  \n",
       "438          1\n",
       "1394         1\n",
       "403          1\n",
       "62918        1\n",
       "2971         1\n",
       "Name: item_id, Length: 74063, dtype: int64"
      ]
     },
     "execution_count": 47,
     "metadata": {},
     "output_type": "execute_result"
    }
   ],
   "source": [
    "cust_tran_data.item_id.value_counts()  #count of diffrent element values in the item_id column of the dataset"
   ]
  },
  {
   "cell_type": "code",
   "execution_count": 48,
   "id": "6b75c61f",
   "metadata": {},
   "outputs": [
    {
     "name": "stdout",
     "output_type": "stream",
     "text": [
      "0          False\n",
      "1          False\n",
      "2          False\n",
      "3          False\n",
      "4          False\n",
      "           ...  \n",
      "1324561    False\n",
      "1324562    False\n",
      "1324563    False\n",
      "1324564    False\n",
      "1324565    False\n",
      "Length: 1324566, dtype: bool\n"
     ]
    }
   ],
   "source": [
    "print(cust_tran_data.duplicated())  #finding the duplicte rows in the dataset"
   ]
  },
  {
   "cell_type": "code",
   "execution_count": 49,
   "id": "cd36ba51",
   "metadata": {},
   "outputs": [
    {
     "name": "stdout",
     "output_type": "stream",
     "text": [
      "2916\n"
     ]
    }
   ],
   "source": [
    "print(cust_tran_data.duplicated().sum()) #count the no. of duplicate rows in the dataset"
   ]
  },
  {
   "cell_type": "code",
   "execution_count": 50,
   "id": "01b4492a",
   "metadata": {},
   "outputs": [
    {
     "data": {
      "text/plain": [
       "date               0\n",
       "customer_id        0\n",
       "item_id            0\n",
       "quantity           0\n",
       "selling_price      0\n",
       "other_discount     0\n",
       "coupon_discount    0\n",
       "dtype: int64"
      ]
     },
     "execution_count": 50,
     "metadata": {},
     "output_type": "execute_result"
    }
   ],
   "source": [
    "cust_tran_data.isnull().sum()   #printing the total null values in the dataset"
   ]
  },
  {
   "cell_type": "code",
   "execution_count": null,
   "id": "4d6ee513",
   "metadata": {},
   "outputs": [],
   "source": []
  },
  {
   "cell_type": "markdown",
   "id": "30403979",
   "metadata": {},
   "source": [
    "# 4.DATA ANALYSIS OF COUPAN DATA DATASET"
   ]
  },
  {
   "cell_type": "code",
   "execution_count": 51,
   "id": "199092d3",
   "metadata": {},
   "outputs": [],
   "source": [
    "cmp_data = pd.read_csv('campaign_data.csv')   #loading the dataset"
   ]
  },
  {
   "cell_type": "code",
   "execution_count": 52,
   "id": "377b56f4",
   "metadata": {},
   "outputs": [
    {
     "data": {
      "text/html": [
       "<div>\n",
       "<style scoped>\n",
       "    .dataframe tbody tr th:only-of-type {\n",
       "        vertical-align: middle;\n",
       "    }\n",
       "\n",
       "    .dataframe tbody tr th {\n",
       "        vertical-align: top;\n",
       "    }\n",
       "\n",
       "    .dataframe thead th {\n",
       "        text-align: right;\n",
       "    }\n",
       "</style>\n",
       "<table border=\"1\" class=\"dataframe\">\n",
       "  <thead>\n",
       "    <tr style=\"text-align: right;\">\n",
       "      <th></th>\n",
       "      <th>campaign_id</th>\n",
       "      <th>campaign_type</th>\n",
       "      <th>start_date</th>\n",
       "      <th>end_date</th>\n",
       "    </tr>\n",
       "  </thead>\n",
       "  <tbody>\n",
       "    <tr>\n",
       "      <th>0</th>\n",
       "      <td>24</td>\n",
       "      <td>Y</td>\n",
       "      <td>21/10/13</td>\n",
       "      <td>20/12/13</td>\n",
       "    </tr>\n",
       "    <tr>\n",
       "      <th>1</th>\n",
       "      <td>25</td>\n",
       "      <td>Y</td>\n",
       "      <td>21/10/13</td>\n",
       "      <td>22/11/13</td>\n",
       "    </tr>\n",
       "    <tr>\n",
       "      <th>2</th>\n",
       "      <td>20</td>\n",
       "      <td>Y</td>\n",
       "      <td>07/09/13</td>\n",
       "      <td>16/11/13</td>\n",
       "    </tr>\n",
       "    <tr>\n",
       "      <th>3</th>\n",
       "      <td>23</td>\n",
       "      <td>Y</td>\n",
       "      <td>08/10/13</td>\n",
       "      <td>15/11/13</td>\n",
       "    </tr>\n",
       "    <tr>\n",
       "      <th>4</th>\n",
       "      <td>21</td>\n",
       "      <td>Y</td>\n",
       "      <td>16/09/13</td>\n",
       "      <td>18/10/13</td>\n",
       "    </tr>\n",
       "  </tbody>\n",
       "</table>\n",
       "</div>"
      ],
      "text/plain": [
       "   campaign_id campaign_type start_date  end_date\n",
       "0           24             Y   21/10/13  20/12/13\n",
       "1           25             Y   21/10/13  22/11/13\n",
       "2           20             Y   07/09/13  16/11/13\n",
       "3           23             Y   08/10/13  15/11/13\n",
       "4           21             Y   16/09/13  18/10/13"
      ]
     },
     "execution_count": 52,
     "metadata": {},
     "output_type": "execute_result"
    }
   ],
   "source": [
    "cmp_data.head()  #printing the first five rows of dataset"
   ]
  },
  {
   "cell_type": "code",
   "execution_count": 53,
   "id": "025368d7",
   "metadata": {},
   "outputs": [
    {
     "data": {
      "text/html": [
       "<div>\n",
       "<style scoped>\n",
       "    .dataframe tbody tr th:only-of-type {\n",
       "        vertical-align: middle;\n",
       "    }\n",
       "\n",
       "    .dataframe tbody tr th {\n",
       "        vertical-align: top;\n",
       "    }\n",
       "\n",
       "    .dataframe thead th {\n",
       "        text-align: right;\n",
       "    }\n",
       "</style>\n",
       "<table border=\"1\" class=\"dataframe\">\n",
       "  <thead>\n",
       "    <tr style=\"text-align: right;\">\n",
       "      <th></th>\n",
       "      <th>campaign_id</th>\n",
       "      <th>campaign_type</th>\n",
       "      <th>start_date</th>\n",
       "      <th>end_date</th>\n",
       "    </tr>\n",
       "  </thead>\n",
       "  <tbody>\n",
       "    <tr>\n",
       "      <th>23</th>\n",
       "      <td>30</td>\n",
       "      <td>X</td>\n",
       "      <td>19/11/12</td>\n",
       "      <td>04/01/13</td>\n",
       "    </tr>\n",
       "    <tr>\n",
       "      <th>24</th>\n",
       "      <td>29</td>\n",
       "      <td>Y</td>\n",
       "      <td>08/10/12</td>\n",
       "      <td>30/11/12</td>\n",
       "    </tr>\n",
       "    <tr>\n",
       "      <th>25</th>\n",
       "      <td>28</td>\n",
       "      <td>Y</td>\n",
       "      <td>16/09/12</td>\n",
       "      <td>16/11/12</td>\n",
       "    </tr>\n",
       "    <tr>\n",
       "      <th>26</th>\n",
       "      <td>27</td>\n",
       "      <td>Y</td>\n",
       "      <td>25/08/12</td>\n",
       "      <td>27/10/12</td>\n",
       "    </tr>\n",
       "    <tr>\n",
       "      <th>27</th>\n",
       "      <td>26</td>\n",
       "      <td>X</td>\n",
       "      <td>12/08/12</td>\n",
       "      <td>21/09/12</td>\n",
       "    </tr>\n",
       "  </tbody>\n",
       "</table>\n",
       "</div>"
      ],
      "text/plain": [
       "    campaign_id campaign_type start_date  end_date\n",
       "23           30             X   19/11/12  04/01/13\n",
       "24           29             Y   08/10/12  30/11/12\n",
       "25           28             Y   16/09/12  16/11/12\n",
       "26           27             Y   25/08/12  27/10/12\n",
       "27           26             X   12/08/12  21/09/12"
      ]
     },
     "execution_count": 53,
     "metadata": {},
     "output_type": "execute_result"
    }
   ],
   "source": [
    "cmp_data.tail() #printing the last five rows of dataset"
   ]
  },
  {
   "cell_type": "code",
   "execution_count": 54,
   "id": "b2c9ee04",
   "metadata": {},
   "outputs": [
    {
     "data": {
      "text/plain": [
       "(28, 4)"
      ]
     },
     "execution_count": 54,
     "metadata": {},
     "output_type": "execute_result"
    }
   ],
   "source": [
    "cmp_data.shape  #The datset have total 28 rows and 4 columns."
   ]
  },
  {
   "cell_type": "code",
   "execution_count": 55,
   "id": "b277c9a4",
   "metadata": {},
   "outputs": [
    {
     "name": "stdout",
     "output_type": "stream",
     "text": [
      "<class 'pandas.core.frame.DataFrame'>\n",
      "RangeIndex: 28 entries, 0 to 27\n",
      "Data columns (total 4 columns):\n",
      " #   Column         Non-Null Count  Dtype \n",
      "---  ------         --------------  ----- \n",
      " 0   campaign_id    28 non-null     int64 \n",
      " 1   campaign_type  28 non-null     object\n",
      " 2   start_date     28 non-null     object\n",
      " 3   end_date       28 non-null     object\n",
      "dtypes: int64(1), object(3)\n",
      "memory usage: 1.0+ KB\n"
     ]
    }
   ],
   "source": [
    "cmp_data.info()   #some basic informations of the item dataset"
   ]
  },
  {
   "cell_type": "code",
   "execution_count": 56,
   "id": "9b1e566d",
   "metadata": {},
   "outputs": [
    {
     "data": {
      "text/plain": [
       "campaign_id      28\n",
       "campaign_type     2\n",
       "start_date       25\n",
       "end_date         26\n",
       "dtype: int64"
      ]
     },
     "execution_count": 56,
     "metadata": {},
     "output_type": "execute_result"
    }
   ],
   "source": [
    "cmp_data.nunique()     #no of unique values in columns of the item dataset"
   ]
  },
  {
   "cell_type": "code",
   "execution_count": 57,
   "id": "8e4c43df",
   "metadata": {},
   "outputs": [
    {
     "data": {
      "text/html": [
       "<div>\n",
       "<style scoped>\n",
       "    .dataframe tbody tr th:only-of-type {\n",
       "        vertical-align: middle;\n",
       "    }\n",
       "\n",
       "    .dataframe tbody tr th {\n",
       "        vertical-align: top;\n",
       "    }\n",
       "\n",
       "    .dataframe thead th {\n",
       "        text-align: right;\n",
       "    }\n",
       "</style>\n",
       "<table border=\"1\" class=\"dataframe\">\n",
       "  <thead>\n",
       "    <tr style=\"text-align: right;\">\n",
       "      <th></th>\n",
       "      <th>campaign_id</th>\n",
       "    </tr>\n",
       "  </thead>\n",
       "  <tbody>\n",
       "    <tr>\n",
       "      <th>count</th>\n",
       "      <td>28.000000</td>\n",
       "    </tr>\n",
       "    <tr>\n",
       "      <th>mean</th>\n",
       "      <td>15.571429</td>\n",
       "    </tr>\n",
       "    <tr>\n",
       "      <th>std</th>\n",
       "      <td>9.118271</td>\n",
       "    </tr>\n",
       "    <tr>\n",
       "      <th>min</th>\n",
       "      <td>1.000000</td>\n",
       "    </tr>\n",
       "    <tr>\n",
       "      <th>25%</th>\n",
       "      <td>7.750000</td>\n",
       "    </tr>\n",
       "    <tr>\n",
       "      <th>50%</th>\n",
       "      <td>16.500000</td>\n",
       "    </tr>\n",
       "    <tr>\n",
       "      <th>75%</th>\n",
       "      <td>23.250000</td>\n",
       "    </tr>\n",
       "    <tr>\n",
       "      <th>max</th>\n",
       "      <td>30.000000</td>\n",
       "    </tr>\n",
       "  </tbody>\n",
       "</table>\n",
       "</div>"
      ],
      "text/plain": [
       "       campaign_id\n",
       "count    28.000000\n",
       "mean     15.571429\n",
       "std       9.118271\n",
       "min       1.000000\n",
       "25%       7.750000\n",
       "50%      16.500000\n",
       "75%      23.250000\n",
       "max      30.000000"
      ]
     },
     "execution_count": 57,
     "metadata": {},
     "output_type": "execute_result"
    }
   ],
   "source": [
    "cmp_data.describe()     #statstics values of the dataset"
   ]
  },
  {
   "cell_type": "code",
   "execution_count": 58,
   "id": "3dc3611e",
   "metadata": {},
   "outputs": [
    {
     "data": {
      "text/plain": [
       "array([[<AxesSubplot:title={'center':'campaign_id'}>]], dtype=object)"
      ]
     },
     "execution_count": 58,
     "metadata": {},
     "output_type": "execute_result"
    },
    {
     "data": {
      "image/png": "[encoded data removed]",
      "text/plain": [
       "<Figure size 500x300 with 1 Axes>"
      ]
     },
     "metadata": {},
     "output_type": "display_data"
    }
   ],
   "source": [
    " cmp_data.hist(figsize=(5, 3))"
   ]
  },
  {
   "cell_type": "code",
   "execution_count": 59,
   "id": "b1ec3d78",
   "metadata": {},
   "outputs": [
    {
     "data": {
      "text/plain": [
       "['campaign_id', 'campaign_type', 'start_date', 'end_date']"
      ]
     },
     "execution_count": 59,
     "metadata": {},
     "output_type": "execute_result"
    }
   ],
   "source": [
    "cmp_data_columns=list(cmp_data.columns)\n",
    "cmp_data_columns   #printing the columns names of the dataset"
   ]
  },
  {
   "cell_type": "code",
   "execution_count": 60,
   "id": "7fd90f4f",
   "metadata": {},
   "outputs": [
    {
     "data": {
      "text/plain": [
       "array([[24, 'Y', '21/10/13', '20/12/13'],\n",
       "       [25, 'Y', '21/10/13', '22/11/13'],\n",
       "       [20, 'Y', '07/09/13', '16/11/13'],\n",
       "       [23, 'Y', '08/10/13', '15/11/13'],\n",
       "       [21, 'Y', '16/09/13', '18/10/13'],\n",
       "       [22, 'X', '16/09/13', '18/10/13'],\n",
       "       [18, 'X', '10/08/13', '04/10/13'],\n",
       "       [19, 'Y', '26/08/13', '27/09/13'],\n",
       "       [17, 'Y', '29/07/13', '30/08/13'],\n",
       "       [16, 'Y', '15/07/13', '16/08/13'],\n",
       "       [13, 'X', '19/05/13', '05/07/13'],\n",
       "       [11, 'Y', '22/04/13', '07/06/13'],\n",
       "       [12, 'Y', '22/04/13', '24/05/13'],\n",
       "       [10, 'Y', '08/04/13', '10/05/13'],\n",
       "       [9, 'Y', '11/03/13', '12/04/13'],\n",
       "       [8, 'X', '16/02/13', '05/04/13'],\n",
       "       [7, 'Y', '02/02/13', '08/03/13'],\n",
       "       [6, 'Y', '28/01/13', '01/03/13'],\n",
       "       [3, 'Y', '22/12/12', '16/02/13'],\n",
       "       [5, 'Y', '12/01/13', '15/02/13'],\n",
       "       [4, 'Y', '07/01/13', '08/02/13'],\n",
       "       [1, 'Y', '12/12/12', '18/01/13'],\n",
       "       [2, 'Y', '17/12/12', '18/01/13'],\n",
       "       [30, 'X', '19/11/12', '04/01/13'],\n",
       "       [29, 'Y', '08/10/12', '30/11/12'],\n",
       "       [28, 'Y', '16/09/12', '16/11/12'],\n",
       "       [27, 'Y', '25/08/12', '27/10/12'],\n",
       "       [26, 'X', '12/08/12', '21/09/12']], dtype=object)"
      ]
     },
     "execution_count": 60,
     "metadata": {},
     "output_type": "execute_result"
    }
   ],
   "source": [
    "cmp_data_values=cmp_data.values\n",
    "cmp_data_values       #printing the values of the dataset"
   ]
  },
  {
   "cell_type": "code",
   "execution_count": 61,
   "id": "2eb05495",
   "metadata": {},
   "outputs": [
    {
     "data": {
      "text/plain": [
       "24    1\n",
       "25    1\n",
       "27    1\n",
       "28    1\n",
       "29    1\n",
       "30    1\n",
       "2     1\n",
       "1     1\n",
       "4     1\n",
       "5     1\n",
       "3     1\n",
       "6     1\n",
       "7     1\n",
       "8     1\n",
       "9     1\n",
       "10    1\n",
       "12    1\n",
       "11    1\n",
       "13    1\n",
       "16    1\n",
       "17    1\n",
       "19    1\n",
       "18    1\n",
       "22    1\n",
       "21    1\n",
       "23    1\n",
       "20    1\n",
       "26    1\n",
       "Name: campaign_id, dtype: int64"
      ]
     },
     "execution_count": 61,
     "metadata": {},
     "output_type": "execute_result"
    }
   ],
   "source": [
    "cmp_data.campaign_id.value_counts()   #count of diffrent element values in the brand_type column of the dataset"
   ]
  },
  {
   "cell_type": "code",
   "execution_count": 62,
   "id": "187a76db",
   "metadata": {},
   "outputs": [
    {
     "data": {
      "text/plain": [
       "Y    22\n",
       "X     6\n",
       "Name: campaign_type, dtype: int64"
      ]
     },
     "execution_count": 62,
     "metadata": {},
     "output_type": "execute_result"
    }
   ],
   "source": [
    "cmp_data.campaign_type.value_counts()  #count of diffrent element values in the campaign_type column of the dataset"
   ]
  },
  {
   "cell_type": "code",
   "execution_count": 63,
   "id": "04219ef8",
   "metadata": {},
   "outputs": [
    {
     "name": "stdout",
     "output_type": "stream",
     "text": [
      "0     False\n",
      "1     False\n",
      "2     False\n",
      "3     False\n",
      "4     False\n",
      "5     False\n",
      "6     False\n",
      "7     False\n",
      "8     False\n",
      "9     False\n",
      "10    False\n",
      "11    False\n",
      "12    False\n",
      "13    False\n",
      "14    False\n",
      "15    False\n",
      "16    False\n",
      "17    False\n",
      "18    False\n",
      "19    False\n",
      "20    False\n",
      "21    False\n",
      "22    False\n",
      "23    False\n",
      "24    False\n",
      "25    False\n",
      "26    False\n",
      "27    False\n",
      "dtype: bool\n"
     ]
    }
   ],
   "source": [
    "print(cmp_data.duplicated())   #finding the duplciate rows in the dataset"
   ]
  },
  {
   "cell_type": "code",
   "execution_count": 64,
   "id": "03ea762e",
   "metadata": {},
   "outputs": [
    {
     "name": "stdout",
     "output_type": "stream",
     "text": [
      "0\n"
     ]
    }
   ],
   "source": [
    "print(cmp_data.duplicated().sum())  #count the total no of duplicate rows in the dataset"
   ]
  },
  {
   "cell_type": "code",
   "execution_count": 65,
   "id": "70ddc70d",
   "metadata": {},
   "outputs": [
    {
     "data": {
      "text/plain": [
       "campaign_id      0\n",
       "campaign_type    0\n",
       "start_date       0\n",
       "end_date         0\n",
       "dtype: int64"
      ]
     },
     "execution_count": 65,
     "metadata": {},
     "output_type": "execute_result"
    }
   ],
   "source": [
    "cmp_data.isnull().sum()   #printing the total null values in the dataset"
   ]
  },
  {
   "cell_type": "code",
   "execution_count": null,
   "id": "feeef93d",
   "metadata": {},
   "outputs": [],
   "source": []
  },
  {
   "cell_type": "markdown",
   "id": "99557a4c",
   "metadata": {},
   "source": [
    "# 5.DATA ANALYSIS OF COUPON ITEM MAPPING DATASET"
   ]
  },
  {
   "cell_type": "code",
   "execution_count": 66,
   "id": "6a462ad7",
   "metadata": {},
   "outputs": [],
   "source": [
    "cupn_itm_map = pd.read_csv(\"coupon_item_mapping.csv\")  #loading the dataset"
   ]
  },
  {
   "cell_type": "code",
   "execution_count": 67,
   "id": "7a280896",
   "metadata": {},
   "outputs": [
    {
     "data": {
      "text/html": [
       "<div>\n",
       "<style scoped>\n",
       "    .dataframe tbody tr th:only-of-type {\n",
       "        vertical-align: middle;\n",
       "    }\n",
       "\n",
       "    .dataframe tbody tr th {\n",
       "        vertical-align: top;\n",
       "    }\n",
       "\n",
       "    .dataframe thead th {\n",
       "        text-align: right;\n",
       "    }\n",
       "</style>\n",
       "<table border=\"1\" class=\"dataframe\">\n",
       "  <thead>\n",
       "    <tr style=\"text-align: right;\">\n",
       "      <th></th>\n",
       "      <th>coupon_id</th>\n",
       "      <th>item_id</th>\n",
       "    </tr>\n",
       "  </thead>\n",
       "  <tbody>\n",
       "    <tr>\n",
       "      <th>0</th>\n",
       "      <td>105</td>\n",
       "      <td>37</td>\n",
       "    </tr>\n",
       "    <tr>\n",
       "      <th>1</th>\n",
       "      <td>107</td>\n",
       "      <td>75</td>\n",
       "    </tr>\n",
       "    <tr>\n",
       "      <th>2</th>\n",
       "      <td>494</td>\n",
       "      <td>76</td>\n",
       "    </tr>\n",
       "    <tr>\n",
       "      <th>3</th>\n",
       "      <td>522</td>\n",
       "      <td>77</td>\n",
       "    </tr>\n",
       "    <tr>\n",
       "      <th>4</th>\n",
       "      <td>518</td>\n",
       "      <td>77</td>\n",
       "    </tr>\n",
       "  </tbody>\n",
       "</table>\n",
       "</div>"
      ],
      "text/plain": [
       "   coupon_id  item_id\n",
       "0        105       37\n",
       "1        107       75\n",
       "2        494       76\n",
       "3        522       77\n",
       "4        518       77"
      ]
     },
     "execution_count": 67,
     "metadata": {},
     "output_type": "execute_result"
    }
   ],
   "source": [
    "cupn_itm_map.head()  #printing first five rows in dataset"
   ]
  },
  {
   "cell_type": "code",
   "execution_count": 68,
   "id": "c1a26bd9",
   "metadata": {},
   "outputs": [
    {
     "data": {
      "text/html": [
       "<div>\n",
       "<style scoped>\n",
       "    .dataframe tbody tr th:only-of-type {\n",
       "        vertical-align: middle;\n",
       "    }\n",
       "\n",
       "    .dataframe tbody tr th {\n",
       "        vertical-align: top;\n",
       "    }\n",
       "\n",
       "    .dataframe thead th {\n",
       "        text-align: right;\n",
       "    }\n",
       "</style>\n",
       "<table border=\"1\" class=\"dataframe\">\n",
       "  <thead>\n",
       "    <tr style=\"text-align: right;\">\n",
       "      <th></th>\n",
       "      <th>coupon_id</th>\n",
       "      <th>item_id</th>\n",
       "    </tr>\n",
       "  </thead>\n",
       "  <tbody>\n",
       "    <tr>\n",
       "      <th>92658</th>\n",
       "      <td>32</td>\n",
       "      <td>69268</td>\n",
       "    </tr>\n",
       "    <tr>\n",
       "      <th>92659</th>\n",
       "      <td>32</td>\n",
       "      <td>68502</td>\n",
       "    </tr>\n",
       "    <tr>\n",
       "      <th>92660</th>\n",
       "      <td>32</td>\n",
       "      <td>68612</td>\n",
       "    </tr>\n",
       "    <tr>\n",
       "      <th>92661</th>\n",
       "      <td>33</td>\n",
       "      <td>71390</td>\n",
       "    </tr>\n",
       "    <tr>\n",
       "      <th>92662</th>\n",
       "      <td>31</td>\n",
       "      <td>70030</td>\n",
       "    </tr>\n",
       "  </tbody>\n",
       "</table>\n",
       "</div>"
      ],
      "text/plain": [
       "       coupon_id  item_id\n",
       "92658         32    69268\n",
       "92659         32    68502\n",
       "92660         32    68612\n",
       "92661         33    71390\n",
       "92662         31    70030"
      ]
     },
     "execution_count": 68,
     "metadata": {},
     "output_type": "execute_result"
    }
   ],
   "source": [
    "cupn_itm_map.tail()  #printing last five rows in dataset"
   ]
  },
  {
   "cell_type": "code",
   "execution_count": 69,
   "id": "88445d26",
   "metadata": {},
   "outputs": [
    {
     "data": {
      "text/plain": [
       "(92663, 2)"
      ]
     },
     "execution_count": 69,
     "metadata": {},
     "output_type": "execute_result"
    }
   ],
   "source": [
    "cupn_itm_map.shape   #the item data set have total 92663 rows and 2 columns"
   ]
  },
  {
   "cell_type": "code",
   "execution_count": 70,
   "id": "f57be933",
   "metadata": {},
   "outputs": [
    {
     "name": "stdout",
     "output_type": "stream",
     "text": [
      "<class 'pandas.core.frame.DataFrame'>\n",
      "RangeIndex: 92663 entries, 0 to 92662\n",
      "Data columns (total 2 columns):\n",
      " #   Column     Non-Null Count  Dtype\n",
      "---  ------     --------------  -----\n",
      " 0   coupon_id  92663 non-null  int64\n",
      " 1   item_id    92663 non-null  int64\n",
      "dtypes: int64(2)\n",
      "memory usage: 1.4 MB\n"
     ]
    }
   ],
   "source": [
    "cupn_itm_map.info()     #some basic informations of the item dataset"
   ]
  },
  {
   "cell_type": "code",
   "execution_count": 71,
   "id": "ae3560f6",
   "metadata": {},
   "outputs": [
    {
     "data": {
      "text/plain": [
       "coupon_id     1116\n",
       "item_id      36289\n",
       "dtype: int64"
      ]
     },
     "execution_count": 71,
     "metadata": {},
     "output_type": "execute_result"
    }
   ],
   "source": [
    "cupn_itm_map.nunique()    #no of unique values in columns of the item dataset"
   ]
  },
  {
   "cell_type": "code",
   "execution_count": 72,
   "id": "4e0943c4",
   "metadata": {},
   "outputs": [
    {
     "data": {
      "text/html": [
       "<div>\n",
       "<style scoped>\n",
       "    .dataframe tbody tr th:only-of-type {\n",
       "        vertical-align: middle;\n",
       "    }\n",
       "\n",
       "    .dataframe tbody tr th {\n",
       "        vertical-align: top;\n",
       "    }\n",
       "\n",
       "    .dataframe thead th {\n",
       "        text-align: right;\n",
       "    }\n",
       "</style>\n",
       "<table border=\"1\" class=\"dataframe\">\n",
       "  <thead>\n",
       "    <tr style=\"text-align: right;\">\n",
       "      <th></th>\n",
       "      <th>coupon_id</th>\n",
       "      <th>item_id</th>\n",
       "    </tr>\n",
       "  </thead>\n",
       "  <tbody>\n",
       "    <tr>\n",
       "      <th>count</th>\n",
       "      <td>92663.000000</td>\n",
       "      <td>92663.000000</td>\n",
       "    </tr>\n",
       "    <tr>\n",
       "      <th>mean</th>\n",
       "      <td>155.967387</td>\n",
       "      <td>36508.613071</td>\n",
       "    </tr>\n",
       "    <tr>\n",
       "      <th>std</th>\n",
       "      <td>282.991720</td>\n",
       "      <td>21131.312716</td>\n",
       "    </tr>\n",
       "    <tr>\n",
       "      <th>min</th>\n",
       "      <td>1.000000</td>\n",
       "      <td>1.000000</td>\n",
       "    </tr>\n",
       "    <tr>\n",
       "      <th>25%</th>\n",
       "      <td>22.000000</td>\n",
       "      <td>18255.500000</td>\n",
       "    </tr>\n",
       "    <tr>\n",
       "      <th>50%</th>\n",
       "      <td>30.000000</td>\n",
       "      <td>37955.000000</td>\n",
       "    </tr>\n",
       "    <tr>\n",
       "      <th>75%</th>\n",
       "      <td>42.000000</td>\n",
       "      <td>54191.500000</td>\n",
       "    </tr>\n",
       "    <tr>\n",
       "      <th>max</th>\n",
       "      <td>1116.000000</td>\n",
       "      <td>74061.000000</td>\n",
       "    </tr>\n",
       "  </tbody>\n",
       "</table>\n",
       "</div>"
      ],
      "text/plain": [
       "          coupon_id       item_id\n",
       "count  92663.000000  92663.000000\n",
       "mean     155.967387  36508.613071\n",
       "std      282.991720  21131.312716\n",
       "min        1.000000      1.000000\n",
       "25%       22.000000  18255.500000\n",
       "50%       30.000000  37955.000000\n",
       "75%       42.000000  54191.500000\n",
       "max     1116.000000  74061.000000"
      ]
     },
     "execution_count": 72,
     "metadata": {},
     "output_type": "execute_result"
    }
   ],
   "source": [
    "cupn_itm_map.describe()      #statstics values of the dataset"
   ]
  },
  {
   "cell_type": "code",
   "execution_count": 73,
   "id": "cb410712",
   "metadata": {},
   "outputs": [
    {
     "data": {
      "text/plain": [
       "array([[<AxesSubplot:title={'center':'coupon_id'}>,\n",
       "        <AxesSubplot:title={'center':'item_id'}>]], dtype=object)"
      ]
     },
     "execution_count": 73,
     "metadata": {},
     "output_type": "execute_result"
    },
    {
     "data": {
      "image/png": "[encoded data removed]",
      "text/plain": [
       "<Figure size 800x400 with 2 Axes>"
      ]
     },
     "metadata": {},
     "output_type": "display_data"
    }
   ],
   "source": [
    "cupn_itm_map.hist(figsize=(8, 4))  "
   ]
  },
  {
   "cell_type": "code",
   "execution_count": 74,
   "id": "cfe26a98",
   "metadata": {},
   "outputs": [
    {
     "data": {
      "text/html": [
       "<div>\n",
       "<style scoped>\n",
       "    .dataframe tbody tr th:only-of-type {\n",
       "        vertical-align: middle;\n",
       "    }\n",
       "\n",
       "    .dataframe tbody tr th {\n",
       "        vertical-align: top;\n",
       "    }\n",
       "\n",
       "    .dataframe thead th {\n",
       "        text-align: right;\n",
       "    }\n",
       "</style>\n",
       "<table border=\"1\" class=\"dataframe\">\n",
       "  <thead>\n",
       "    <tr style=\"text-align: right;\">\n",
       "      <th></th>\n",
       "      <th>coupon_id</th>\n",
       "      <th>item_id</th>\n",
       "    </tr>\n",
       "  </thead>\n",
       "  <tbody>\n",
       "    <tr>\n",
       "      <th>coupon_id</th>\n",
       "      <td>1.000000</td>\n",
       "      <td>-0.027016</td>\n",
       "    </tr>\n",
       "    <tr>\n",
       "      <th>item_id</th>\n",
       "      <td>-0.027016</td>\n",
       "      <td>1.000000</td>\n",
       "    </tr>\n",
       "  </tbody>\n",
       "</table>\n",
       "</div>"
      ],
      "text/plain": [
       "           coupon_id   item_id\n",
       "coupon_id   1.000000 -0.027016\n",
       "item_id    -0.027016  1.000000"
      ]
     },
     "execution_count": 74,
     "metadata": {},
     "output_type": "execute_result"
    }
   ],
   "source": [
    "cupn_itm_map.corr()"
   ]
  },
  {
   "cell_type": "code",
   "execution_count": 75,
   "id": "ed4ac00f",
   "metadata": {},
   "outputs": [
    {
     "data": {
      "text/plain": [
       "['coupon_id', 'item_id']"
      ]
     },
     "execution_count": 75,
     "metadata": {},
     "output_type": "execute_result"
    }
   ],
   "source": [
    "cupn_itm_map_columns=list(cupn_itm_map.columns)   #printing the columns names of the dataset\n",
    "cupn_itm_map_columns"
   ]
  },
  {
   "cell_type": "code",
   "execution_count": 76,
   "id": "1656ee28",
   "metadata": {},
   "outputs": [
    {
     "data": {
      "text/plain": [
       "array([[  105,    37],\n",
       "       [  107,    75],\n",
       "       [  494,    76],\n",
       "       ...,\n",
       "       [   32, 68612],\n",
       "       [   33, 71390],\n",
       "       [   31, 70030]], dtype=int64)"
      ]
     },
     "execution_count": 76,
     "metadata": {},
     "output_type": "execute_result"
    }
   ],
   "source": [
    "cupn_itm_map_values=cupn_itm_map.values    #printing the values of the dataset\n",
    "cupn_itm_map_values    "
   ]
  },
  {
   "cell_type": "code",
   "execution_count": 77,
   "id": "71e3b3a4",
   "metadata": {},
   "outputs": [
    {
     "data": {
      "text/plain": [
       "32      11814\n",
       "23      11813\n",
       "22       4947\n",
       "31       4873\n",
       "33       4394\n",
       "        ...  \n",
       "1057        1\n",
       "54          1\n",
       "470         1\n",
       "48          1\n",
       "784         1\n",
       "Name: coupon_id, Length: 1116, dtype: int64"
      ]
     },
     "execution_count": 77,
     "metadata": {},
     "output_type": "execute_result"
    }
   ],
   "source": [
    "cupn_itm_map.coupon_id.value_counts()   #count of diffrent element values in the coupan_id column of the dataset"
   ]
  },
  {
   "cell_type": "code",
   "execution_count": 78,
   "id": "177c2d77",
   "metadata": {},
   "outputs": [
    {
     "data": {
      "text/plain": [
       "56523    11\n",
       "26458    10\n",
       "52650    10\n",
       "22290    10\n",
       "30410    10\n",
       "         ..\n",
       "42867     1\n",
       "42839     1\n",
       "42830     1\n",
       "42826     1\n",
       "68920     1\n",
       "Name: item_id, Length: 36289, dtype: int64"
      ]
     },
     "execution_count": 78,
     "metadata": {},
     "output_type": "execute_result"
    }
   ],
   "source": [
    "cupn_itm_map.item_id.value_counts()   #count of diffrent element values in the item_id column of the dataset"
   ]
  },
  {
   "cell_type": "code",
   "execution_count": 79,
   "id": "d7a7b738",
   "metadata": {},
   "outputs": [
    {
     "name": "stdout",
     "output_type": "stream",
     "text": [
      "0        False\n",
      "1        False\n",
      "2        False\n",
      "3        False\n",
      "4        False\n",
      "         ...  \n",
      "92658    False\n",
      "92659    False\n",
      "92660    False\n",
      "92661    False\n",
      "92662    False\n",
      "Length: 92663, dtype: bool\n"
     ]
    }
   ],
   "source": [
    "print(cupn_itm_map.duplicated())  #finding duplciated rows"
   ]
  },
  {
   "cell_type": "code",
   "execution_count": 80,
   "id": "34df70a5",
   "metadata": {},
   "outputs": [
    {
     "name": "stdout",
     "output_type": "stream",
     "text": [
      "0\n"
     ]
    }
   ],
   "source": [
    "print(cupn_itm_map.duplicated().sum())   #count the no. of duplicate values in the dataset"
   ]
  },
  {
   "cell_type": "code",
   "execution_count": 81,
   "id": "574a838b",
   "metadata": {},
   "outputs": [
    {
     "data": {
      "text/plain": [
       "coupon_id    0\n",
       "item_id      0\n",
       "dtype: int64"
      ]
     },
     "execution_count": 81,
     "metadata": {},
     "output_type": "execute_result"
    }
   ],
   "source": [
    "cupn_itm_map.isnull().sum()     #counting the total null values in the dataset"
   ]
  },
  {
   "cell_type": "code",
   "execution_count": null,
   "id": "fcacc78c",
   "metadata": {},
   "outputs": [],
   "source": []
  },
  {
   "cell_type": "markdown",
   "id": "9456b635",
   "metadata": {},
   "source": [
    "# 6. DATA ANALYSIS OF CUSTOMER DEMOGRAPHICS DATASET "
   ]
  },
  {
   "cell_type": "code",
   "execution_count": 82,
   "id": "405f99c6",
   "metadata": {},
   "outputs": [],
   "source": [
    "cust_demo = pd.read_csv(\"customer_demographics.csv\")  #loading the dataset"
   ]
  },
  {
   "cell_type": "code",
   "execution_count": 83,
   "id": "e8477e7f",
   "metadata": {},
   "outputs": [
    {
     "data": {
      "text/html": [
       "<div>\n",
       "<style scoped>\n",
       "    .dataframe tbody tr th:only-of-type {\n",
       "        vertical-align: middle;\n",
       "    }\n",
       "\n",
       "    .dataframe tbody tr th {\n",
       "        vertical-align: top;\n",
       "    }\n",
       "\n",
       "    .dataframe thead th {\n",
       "        text-align: right;\n",
       "    }\n",
       "</style>\n",
       "<table border=\"1\" class=\"dataframe\">\n",
       "  <thead>\n",
       "    <tr style=\"text-align: right;\">\n",
       "      <th></th>\n",
       "      <th>customer_id</th>\n",
       "      <th>age_range</th>\n",
       "      <th>marital_status</th>\n",
       "      <th>rented</th>\n",
       "      <th>family_size</th>\n",
       "      <th>no_of_children</th>\n",
       "      <th>income_bracket</th>\n",
       "    </tr>\n",
       "  </thead>\n",
       "  <tbody>\n",
       "    <tr>\n",
       "      <th>0</th>\n",
       "      <td>1</td>\n",
       "      <td>70+</td>\n",
       "      <td>Married</td>\n",
       "      <td>0</td>\n",
       "      <td>2</td>\n",
       "      <td>NaN</td>\n",
       "      <td>4</td>\n",
       "    </tr>\n",
       "    <tr>\n",
       "      <th>1</th>\n",
       "      <td>6</td>\n",
       "      <td>46-55</td>\n",
       "      <td>Married</td>\n",
       "      <td>0</td>\n",
       "      <td>2</td>\n",
       "      <td>NaN</td>\n",
       "      <td>5</td>\n",
       "    </tr>\n",
       "    <tr>\n",
       "      <th>2</th>\n",
       "      <td>7</td>\n",
       "      <td>26-35</td>\n",
       "      <td>NaN</td>\n",
       "      <td>0</td>\n",
       "      <td>3</td>\n",
       "      <td>1</td>\n",
       "      <td>3</td>\n",
       "    </tr>\n",
       "    <tr>\n",
       "      <th>3</th>\n",
       "      <td>8</td>\n",
       "      <td>26-35</td>\n",
       "      <td>NaN</td>\n",
       "      <td>0</td>\n",
       "      <td>4</td>\n",
       "      <td>2</td>\n",
       "      <td>6</td>\n",
       "    </tr>\n",
       "    <tr>\n",
       "      <th>4</th>\n",
       "      <td>10</td>\n",
       "      <td>46-55</td>\n",
       "      <td>Single</td>\n",
       "      <td>0</td>\n",
       "      <td>1</td>\n",
       "      <td>NaN</td>\n",
       "      <td>5</td>\n",
       "    </tr>\n",
       "  </tbody>\n",
       "</table>\n",
       "</div>"
      ],
      "text/plain": [
       "   customer_id age_range marital_status  rented family_size no_of_children  \\\n",
       "0            1       70+        Married       0           2            NaN   \n",
       "1            6     46-55        Married       0           2            NaN   \n",
       "2            7     26-35            NaN       0           3              1   \n",
       "3            8     26-35            NaN       0           4              2   \n",
       "4           10     46-55         Single       0           1            NaN   \n",
       "\n",
       "   income_bracket  \n",
       "0               4  \n",
       "1               5  \n",
       "2               3  \n",
       "3               6  \n",
       "4               5  "
      ]
     },
     "execution_count": 83,
     "metadata": {},
     "output_type": "execute_result"
    }
   ],
   "source": [
    "cust_demo.head()   #printing first five rows of the dataset "
   ]
  },
  {
   "cell_type": "code",
   "execution_count": 84,
   "id": "eb0b122e",
   "metadata": {},
   "outputs": [
    {
     "data": {
      "text/html": [
       "<div>\n",
       "<style scoped>\n",
       "    .dataframe tbody tr th:only-of-type {\n",
       "        vertical-align: middle;\n",
       "    }\n",
       "\n",
       "    .dataframe tbody tr th {\n",
       "        vertical-align: top;\n",
       "    }\n",
       "\n",
       "    .dataframe thead th {\n",
       "        text-align: right;\n",
       "    }\n",
       "</style>\n",
       "<table border=\"1\" class=\"dataframe\">\n",
       "  <thead>\n",
       "    <tr style=\"text-align: right;\">\n",
       "      <th></th>\n",
       "      <th>customer_id</th>\n",
       "      <th>age_range</th>\n",
       "      <th>marital_status</th>\n",
       "      <th>rented</th>\n",
       "      <th>family_size</th>\n",
       "      <th>no_of_children</th>\n",
       "      <th>income_bracket</th>\n",
       "    </tr>\n",
       "  </thead>\n",
       "  <tbody>\n",
       "    <tr>\n",
       "      <th>755</th>\n",
       "      <td>1577</td>\n",
       "      <td>36-45</td>\n",
       "      <td>NaN</td>\n",
       "      <td>0</td>\n",
       "      <td>2</td>\n",
       "      <td>NaN</td>\n",
       "      <td>5</td>\n",
       "    </tr>\n",
       "    <tr>\n",
       "      <th>756</th>\n",
       "      <td>1578</td>\n",
       "      <td>46-55</td>\n",
       "      <td>Married</td>\n",
       "      <td>0</td>\n",
       "      <td>3</td>\n",
       "      <td>1</td>\n",
       "      <td>6</td>\n",
       "    </tr>\n",
       "    <tr>\n",
       "      <th>757</th>\n",
       "      <td>1579</td>\n",
       "      <td>46-55</td>\n",
       "      <td>NaN</td>\n",
       "      <td>0</td>\n",
       "      <td>1</td>\n",
       "      <td>NaN</td>\n",
       "      <td>4</td>\n",
       "    </tr>\n",
       "    <tr>\n",
       "      <th>758</th>\n",
       "      <td>1580</td>\n",
       "      <td>26-35</td>\n",
       "      <td>NaN</td>\n",
       "      <td>0</td>\n",
       "      <td>2</td>\n",
       "      <td>NaN</td>\n",
       "      <td>5</td>\n",
       "    </tr>\n",
       "    <tr>\n",
       "      <th>759</th>\n",
       "      <td>1581</td>\n",
       "      <td>26-35</td>\n",
       "      <td>NaN</td>\n",
       "      <td>0</td>\n",
       "      <td>3</td>\n",
       "      <td>1</td>\n",
       "      <td>1</td>\n",
       "    </tr>\n",
       "  </tbody>\n",
       "</table>\n",
       "</div>"
      ],
      "text/plain": [
       "     customer_id age_range marital_status  rented family_size no_of_children  \\\n",
       "755         1577     36-45            NaN       0           2            NaN   \n",
       "756         1578     46-55        Married       0           3              1   \n",
       "757         1579     46-55            NaN       0           1            NaN   \n",
       "758         1580     26-35            NaN       0           2            NaN   \n",
       "759         1581     26-35            NaN       0           3              1   \n",
       "\n",
       "     income_bracket  \n",
       "755               5  \n",
       "756               6  \n",
       "757               4  \n",
       "758               5  \n",
       "759               1  "
      ]
     },
     "execution_count": 84,
     "metadata": {},
     "output_type": "execute_result"
    }
   ],
   "source": [
    "cust_demo.tail()   #printing last five rows of the dataset"
   ]
  },
  {
   "cell_type": "code",
   "execution_count": 85,
   "id": "ea74e7fe",
   "metadata": {},
   "outputs": [
    {
     "data": {
      "text/plain": [
       "(760, 7)"
      ]
     },
     "execution_count": 85,
     "metadata": {},
     "output_type": "execute_result"
    }
   ],
   "source": [
    "cust_demo.shape  #the item data set have total 760 rows and 7 columns"
   ]
  },
  {
   "cell_type": "code",
   "execution_count": 86,
   "id": "a1d8d8d9",
   "metadata": {},
   "outputs": [
    {
     "name": "stdout",
     "output_type": "stream",
     "text": [
      "<class 'pandas.core.frame.DataFrame'>\n",
      "RangeIndex: 760 entries, 0 to 759\n",
      "Data columns (total 7 columns):\n",
      " #   Column          Non-Null Count  Dtype \n",
      "---  ------          --------------  ----- \n",
      " 0   customer_id     760 non-null    int64 \n",
      " 1   age_range       760 non-null    object\n",
      " 2   marital_status  431 non-null    object\n",
      " 3   rented          760 non-null    int64 \n",
      " 4   family_size     760 non-null    object\n",
      " 5   no_of_children  222 non-null    object\n",
      " 6   income_bracket  760 non-null    int64 \n",
      "dtypes: int64(3), object(4)\n",
      "memory usage: 41.7+ KB\n"
     ]
    }
   ],
   "source": [
    "cust_demo.info()   #printing some information about the dataset"
   ]
  },
  {
   "cell_type": "code",
   "execution_count": 87,
   "id": "2f14834e",
   "metadata": {},
   "outputs": [
    {
     "data": {
      "text/html": [
       "<div>\n",
       "<style scoped>\n",
       "    .dataframe tbody tr th:only-of-type {\n",
       "        vertical-align: middle;\n",
       "    }\n",
       "\n",
       "    .dataframe tbody tr th {\n",
       "        vertical-align: top;\n",
       "    }\n",
       "\n",
       "    .dataframe thead th {\n",
       "        text-align: right;\n",
       "    }\n",
       "</style>\n",
       "<table border=\"1\" class=\"dataframe\">\n",
       "  <thead>\n",
       "    <tr style=\"text-align: right;\">\n",
       "      <th></th>\n",
       "      <th>customer_id</th>\n",
       "      <th>rented</th>\n",
       "      <th>income_bracket</th>\n",
       "    </tr>\n",
       "  </thead>\n",
       "  <tbody>\n",
       "    <tr>\n",
       "      <th>count</th>\n",
       "      <td>760.000000</td>\n",
       "      <td>760.000000</td>\n",
       "      <td>760.000000</td>\n",
       "    </tr>\n",
       "    <tr>\n",
       "      <th>mean</th>\n",
       "      <td>779.201316</td>\n",
       "      <td>0.053947</td>\n",
       "      <td>4.715789</td>\n",
       "    </tr>\n",
       "    <tr>\n",
       "      <th>std</th>\n",
       "      <td>459.754429</td>\n",
       "      <td>0.226063</td>\n",
       "      <td>2.258817</td>\n",
       "    </tr>\n",
       "    <tr>\n",
       "      <th>min</th>\n",
       "      <td>1.000000</td>\n",
       "      <td>0.000000</td>\n",
       "      <td>1.000000</td>\n",
       "    </tr>\n",
       "    <tr>\n",
       "      <th>25%</th>\n",
       "      <td>382.750000</td>\n",
       "      <td>0.000000</td>\n",
       "      <td>3.000000</td>\n",
       "    </tr>\n",
       "    <tr>\n",
       "      <th>50%</th>\n",
       "      <td>774.500000</td>\n",
       "      <td>0.000000</td>\n",
       "      <td>5.000000</td>\n",
       "    </tr>\n",
       "    <tr>\n",
       "      <th>75%</th>\n",
       "      <td>1187.250000</td>\n",
       "      <td>0.000000</td>\n",
       "      <td>6.000000</td>\n",
       "    </tr>\n",
       "    <tr>\n",
       "      <th>max</th>\n",
       "      <td>1581.000000</td>\n",
       "      <td>1.000000</td>\n",
       "      <td>12.000000</td>\n",
       "    </tr>\n",
       "  </tbody>\n",
       "</table>\n",
       "</div>"
      ],
      "text/plain": [
       "       customer_id      rented  income_bracket\n",
       "count   760.000000  760.000000      760.000000\n",
       "mean    779.201316    0.053947        4.715789\n",
       "std     459.754429    0.226063        2.258817\n",
       "min       1.000000    0.000000        1.000000\n",
       "25%     382.750000    0.000000        3.000000\n",
       "50%     774.500000    0.000000        5.000000\n",
       "75%    1187.250000    0.000000        6.000000\n",
       "max    1581.000000    1.000000       12.000000"
      ]
     },
     "execution_count": 87,
     "metadata": {},
     "output_type": "execute_result"
    }
   ],
   "source": [
    "cust_demo.describe()  #printing some statstical value of dataset "
   ]
  },
  {
   "cell_type": "code",
   "execution_count": 88,
   "id": "12180d33",
   "metadata": {},
   "outputs": [
    {
     "data": {
      "text/plain": [
       "customer_id       760\n",
       "age_range           6\n",
       "marital_status      2\n",
       "rented              2\n",
       "family_size         5\n",
       "no_of_children      3\n",
       "income_bracket     12\n",
       "dtype: int64"
      ]
     },
     "execution_count": 88,
     "metadata": {},
     "output_type": "execute_result"
    }
   ],
   "source": [
    "cust_demo.nunique()  #count the number of unique values in columns of the dataset  "
   ]
  },
  {
   "cell_type": "code",
   "execution_count": 89,
   "id": "483a08d6",
   "metadata": {},
   "outputs": [
    {
     "data": {
      "text/plain": [
       "array([[<AxesSubplot:title={'center':'customer_id'}>,\n",
       "        <AxesSubplot:title={'center':'rented'}>],\n",
       "       [<AxesSubplot:title={'center':'income_bracket'}>, <AxesSubplot:>]],\n",
       "      dtype=object)"
      ]
     },
     "execution_count": 89,
     "metadata": {},
     "output_type": "execute_result"
    },
    {
     "data": {
      "image/png": "[encoded data removed]",
      "text/plain": [
       "<Figure size 700x500 with 4 Axes>"
      ]
     },
     "metadata": {},
     "output_type": "display_data"
    }
   ],
   "source": [
    "cust_demo.hist(figsize=(7, 5))"
   ]
  },
  {
   "cell_type": "code",
   "execution_count": 90,
   "id": "bee5dd96",
   "metadata": {},
   "outputs": [
    {
     "data": {
      "text/html": [
       "<div>\n",
       "<style scoped>\n",
       "    .dataframe tbody tr th:only-of-type {\n",
       "        vertical-align: middle;\n",
       "    }\n",
       "\n",
       "    .dataframe tbody tr th {\n",
       "        vertical-align: top;\n",
       "    }\n",
       "\n",
       "    .dataframe thead th {\n",
       "        text-align: right;\n",
       "    }\n",
       "</style>\n",
       "<table border=\"1\" class=\"dataframe\">\n",
       "  <thead>\n",
       "    <tr style=\"text-align: right;\">\n",
       "      <th></th>\n",
       "      <th>customer_id</th>\n",
       "      <th>rented</th>\n",
       "      <th>income_bracket</th>\n",
       "    </tr>\n",
       "  </thead>\n",
       "  <tbody>\n",
       "    <tr>\n",
       "      <th>customer_id</th>\n",
       "      <td>1.000000</td>\n",
       "      <td>0.020431</td>\n",
       "      <td>0.071477</td>\n",
       "    </tr>\n",
       "    <tr>\n",
       "      <th>rented</th>\n",
       "      <td>0.020431</td>\n",
       "      <td>1.000000</td>\n",
       "      <td>-0.122164</td>\n",
       "    </tr>\n",
       "    <tr>\n",
       "      <th>income_bracket</th>\n",
       "      <td>0.071477</td>\n",
       "      <td>-0.122164</td>\n",
       "      <td>1.000000</td>\n",
       "    </tr>\n",
       "  </tbody>\n",
       "</table>\n",
       "</div>"
      ],
      "text/plain": [
       "                customer_id    rented  income_bracket\n",
       "customer_id        1.000000  0.020431        0.071477\n",
       "rented             0.020431  1.000000       -0.122164\n",
       "income_bracket     0.071477 -0.122164        1.000000"
      ]
     },
     "execution_count": 90,
     "metadata": {},
     "output_type": "execute_result"
    }
   ],
   "source": [
    "cust_demo.corr()"
   ]
  },
  {
   "cell_type": "code",
   "execution_count": 91,
   "id": "2301c39f",
   "metadata": {},
   "outputs": [
    {
     "data": {
      "text/plain": [
       "['id', 'campaign_id', 'coupon_id', 'customer_id', 'redemption_status']"
      ]
     },
     "execution_count": 91,
     "metadata": {},
     "output_type": "execute_result"
    }
   ],
   "source": [
    "cust_demo_columns=list(train_data.columns)\n",
    "cust_demo_columns    #printing the all columns names of the dataset"
   ]
  },
  {
   "cell_type": "code",
   "execution_count": 92,
   "id": "03fd65ae",
   "metadata": {},
   "outputs": [
    {
     "data": {
      "text/plain": [
       "[array([   1,   13,   27, 1053,    0], dtype=int64),\n",
       " array([  2,  13, 116,  48,   0], dtype=int64),\n",
       " array([  6,   9, 635, 205,   0], dtype=int64),\n",
       " array([   7,   13,  644, 1050,    0], dtype=int64),\n",
       " array([   9,    8, 1017, 1489,    0], dtype=int64),\n",
       " array([ 11,  11, 795, 793,   0], dtype=int64),\n",
       " array([ 14,   9, 444, 590,   0], dtype=int64),\n",
       " array([ 15,  29, 538, 368,   0], dtype=int64),\n",
       " array([ 17,  30, 857, 523,   0], dtype=int64),\n",
       " array([ 19,   2, 559, 679,   0], dtype=int64),\n",
       " array([ 20,   9, 575, 108,   0], dtype=int64),\n",
       " array([  21,   13, 1028,   89,    0], dtype=int64),\n",
       " array([ 22,   9, 705, 712,   0], dtype=int64),\n",
       " array([  23,   13,  517, 1067,    0], dtype=int64),\n",
       " array([ 24,   5, 893, 761,   0], dtype=int64),\n",
       " array([ 25,  13, 796, 248,   0], dtype=int64),\n",
       " array([  26,   11,  506, 1464,    0], dtype=int64),\n",
       " array([ 27,   5, 689, 186,   0], dtype=int64),\n",
       " array([  28,   13,  268, 1152,    0], dtype=int64),\n",
       " array([ 29,   8,   8, 695,   0], dtype=int64),\n",
       " array([ 30,   8, 674, 886,   0], dtype=int64),\n",
       " array([  32,   30,  320, 1255,    0], dtype=int64),\n",
       " array([ 33,  12, 109, 553,   0], dtype=int64),\n",
       " array([  34,    8,  278, 1398,    0], dtype=int64),\n",
       " array([  35,   13, 1031, 1031,    0], dtype=int64),\n",
       " array([ 39,  26, 326,  63,   0], dtype=int64),\n",
       " array([ 42,  30, 363,  88,   0], dtype=int64),\n",
       " array([ 43,   8, 911, 197,   0], dtype=int64),\n",
       " array([  45,    8,  383, 1095,    0], dtype=int64),\n",
       " array([  46,   13,  482, 1096,    0], dtype=int64),\n",
       " array([ 48,  26, 813, 919,   0], dtype=int64),\n",
       " array([ 51,  13, 118, 917,   0], dtype=int64),\n",
       " array([ 52,   5, 663, 828,   0], dtype=int64),\n",
       " array([ 54,  30, 332, 958,   0], dtype=int64),\n",
       " array([ 55,  30, 500,  91,   0], dtype=int64),\n",
       " array([  56,    8,  757, 1447,    0], dtype=int64),\n",
       " array([  58,   30, 1067,  124,    0], dtype=int64),\n",
       " array([ 61,   8,  87, 661,   0], dtype=int64),\n",
       " array([ 62,  26, 905, 648,   0], dtype=int64),\n",
       " array([  63,   13, 1114, 1381,    0], dtype=int64),\n",
       " array([ 65,  13, 152, 680,   0], dtype=int64),\n",
       " array([66,  8, 57, 72,  0], dtype=int64),\n",
       " array([ 69,   8, 383, 883,   0], dtype=int64),\n",
       " array([  71,    8,  271, 1366,    0], dtype=int64),\n",
       " array([ 72,  13, 413, 276,   1], dtype=int64),\n",
       " array([ 74,  26, 582, 578,   0], dtype=int64),\n",
       " array([ 75,  30, 333, 895,   0], dtype=int64),\n",
       " array([ 77,  13, 485, 861,   0], dtype=int64),\n",
       " array([  79,   30,  256, 1383,    0], dtype=int64),\n",
       " array([  80,   11,  980, 1351,    0], dtype=int64),\n",
       " array([  82,   29,  538, 1162,    0], dtype=int64),\n",
       " array([ 83,   8, 700,  19,   0], dtype=int64),\n",
       " array([ 84,   2, 628, 384,   0], dtype=int64),\n",
       " array([ 85,  13, 136, 200,   0], dtype=int64),\n",
       " array([ 86,  29, 750, 113,   0], dtype=int64),\n",
       " array([  88,   26,  854, 1210,    0], dtype=int64),\n",
       " array([ 90,   8, 761, 341,   0], dtype=int64),\n",
       " array([  91,    8,  383, 1475,    0], dtype=int64),\n",
       " array([ 92,   3, 828, 998,   0], dtype=int64),\n",
       " array([  93,   13,  881, 1418,    0], dtype=int64),\n",
       " array([  95,   13,  129, 1444,    0], dtype=int64),\n",
       " array([ 97,  26, 867, 321,   0], dtype=int64),\n",
       " array([ 99,   8, 709, 372,   0], dtype=int64),\n",
       " array([101,  13, 169, 888,   0], dtype=int64),\n",
       " array([102,   8,   8, 659,   0], dtype=int64),\n",
       " array([ 103,   30, 1083,  340,    0], dtype=int64),\n",
       " array([104,  13, 530, 657,   0], dtype=int64),\n",
       " array([106,   3, 822, 998,   0], dtype=int64),\n",
       " array([107,  13, 126, 590,   0], dtype=int64),\n",
       " array([ 110,    8,  700, 1044,    0], dtype=int64),\n",
       " array([113,  26, 917, 435,   0], dtype=int64),\n",
       " array([115,  12, 109, 416,   0], dtype=int64),\n",
       " array([117,  13,  22, 741,   0], dtype=int64),\n",
       " array([118,  13, 960, 572,   0], dtype=int64),\n",
       " array([ 121,   13,   24, 1214,    0], dtype=int64),\n",
       " array([122,   8, 772, 166,   0], dtype=int64),\n",
       " array([ 123,   13,  603, 1152,    0], dtype=int64),\n",
       " array([124,  29, 982, 278,   0], dtype=int64),\n",
       " array([125,  13, 510, 379,   0], dtype=int64),\n",
       " array([ 129,   13,  982, 1005,    0], dtype=int64),\n",
       " array([ 130,   13,  132, 1241,    0], dtype=int64),\n",
       " array([ 131,    8,   60, 1202,    0], dtype=int64),\n",
       " array([ 134,   12, 1063, 1025,    0], dtype=int64),\n",
       " array([135,  13, 166, 814,   0], dtype=int64),\n",
       " array([136,  13, 679, 619,   0], dtype=int64),\n",
       " array([137,   3, 839, 998,   0], dtype=int64),\n",
       " array([139,   4, 459,  15,   0], dtype=int64),\n",
       " array([141,   8, 658, 638,   0], dtype=int64),\n",
       " array([ 142,   10,  106, 1582,    0], dtype=int64),\n",
       " array([144,  13, 168, 310,   0], dtype=int64),\n",
       " array([146,   8, 473,   8,   0], dtype=int64),\n",
       " array([151,   8, 627,  95,   0], dtype=int64),\n",
       " array([152,  13, 145, 932,   0], dtype=int64),\n",
       " array([ 154,    8,    7, 1195,    0], dtype=int64),\n",
       " array([ 155,   12,  109, 1232,    0], dtype=int64),\n",
       " array([ 156,   13,  667, 1096,    0], dtype=int64),\n",
       " array([ 158,   30,  924, 1383,    0], dtype=int64),\n",
       " array([159,  29, 621, 569,   0], dtype=int64),\n",
       " array([160,   8, 761, 640,   0], dtype=int64),\n",
       " array([ 161,   13,  467, 1003,    0], dtype=int64),\n",
       " array([ 164,   29,  985, 1029,    0], dtype=int64),\n",
       " array([165,  13, 171, 644,   0], dtype=int64),\n",
       " array([ 167,   13, 1056,  526,    0], dtype=int64),\n",
       " array([169,  13, 890, 745,   0], dtype=int64),\n",
       " array([ 170,   13,  920, 1136,    0], dtype=int64),\n",
       " array([ 171,    5,  279, 1491,    0], dtype=int64),\n",
       " array([ 172,   30,  948, 1534,    0], dtype=int64),\n",
       " array([176,   8, 383,  80,   0], dtype=int64),\n",
       " array([ 179,   26,  368, 1174,    0], dtype=int64),\n",
       " array([180,  12, 107, 879,   0], dtype=int64),\n",
       " array([181,   9,  19, 608,   0], dtype=int64),\n",
       " array([182,   9,  19, 755,   0], dtype=int64),\n",
       " array([ 183,   29,  800, 1099,    0], dtype=int64),\n",
       " array([ 184,   13,  420, 1118,    0], dtype=int64),\n",
       " array([186,  13, 756, 582,   0], dtype=int64),\n",
       " array([187,  12, 783, 686,   0], dtype=int64),\n",
       " array([188,   7, 687, 441,   0], dtype=int64),\n",
       " array([192,  11, 913, 666,   0], dtype=int64),\n",
       " array([ 193,    8,  725, 1233,    0], dtype=int64),\n",
       " array([194,  13, 483, 434,   0], dtype=int64),\n",
       " array([ 195,    8,  674, 1369,    0], dtype=int64),\n",
       " array([ 196,   13,  275, 1303,    0], dtype=int64),\n",
       " array([197,   9, 788, 155,   0], dtype=int64),\n",
       " array([198,  13, 170, 736,   0], dtype=int64),\n",
       " array([ 200,    8,   14, 1410,    0], dtype=int64),\n",
       " array([ 202,   13, 1083,  607,    0], dtype=int64),\n",
       " array([205,  29, 416, 874,   0], dtype=int64),\n",
       " array([206,   5, 689,  44,   0], dtype=int64),\n",
       " array([ 207,    8,   54, 1201,    0], dtype=int64),\n",
       " array([ 208,   13,  113, 1306,    0], dtype=int64),\n",
       " array([209,  13, 125, 900,   0], dtype=int64),\n",
       " array([213,   8, 902,  28,   0], dtype=int64),\n",
       " array([214,  12, 526,  42,   0], dtype=int64),\n",
       " array([215,  13, 144, 538,   0], dtype=int64),\n",
       " array([217,  11, 506, 106,   0], dtype=int64),\n",
       " array([ 218,    8,  554, 1082,    0], dtype=int64),\n",
       " array([219,  26, 936, 212,   0], dtype=int64),\n",
       " array([ 220,   11,  971, 1324,    0], dtype=int64),\n",
       " array([221,  30, 872, 871,   0], dtype=int64),\n",
       " array([222,  29, 873, 501,   0], dtype=int64),\n",
       " array([ 224,   29,  643, 1229,    0], dtype=int64),\n",
       " array([225,   8, 433, 343,   0], dtype=int64),\n",
       " array([228,  29, 538, 634,   0], dtype=int64),\n",
       " array([230,  13, 131, 754,   0], dtype=int64),\n",
       " array([231,   4, 591,  41,   0], dtype=int64),\n",
       " array([233,  13, 608, 206,   0], dtype=int64),\n",
       " array([238,  29, 800, 131,   0], dtype=int64),\n",
       " array([ 239,    8,  723, 1145,    0], dtype=int64),\n",
       " array([240,   8,  76, 612,   0], dtype=int64),\n",
       " array([ 241,   13,  152, 1351,    0], dtype=int64),\n",
       " array([242,  29, 696, 992,   0], dtype=int64),\n",
       " array([ 243,    8,  544, 1307,    0], dtype=int64),\n",
       " array([247,  13, 148, 936,   0], dtype=int64),\n",
       " array([250,   8,  97, 389,   0], dtype=int64),\n",
       " array([254,   7, 687, 532,   0], dtype=int64),\n",
       " array([ 255,   12,  819, 1026,    0], dtype=int64),\n",
       " array([259,  13, 673, 403,   0], dtype=int64),\n",
       " array([260,  13, 123, 718,   0], dtype=int64),\n",
       " array([261,   8, 490,  38,   0], dtype=int64),\n",
       " array([ 262,    8,   55, 1246,    0], dtype=int64),\n",
       " array([264,   9, 989, 569,   0], dtype=int64),\n",
       " array([265,   8,  83, 176,   0], dtype=int64),\n",
       " array([ 266,    8,  437, 1449,    0], dtype=int64),\n",
       " array([267,   3, 836, 725,   0], dtype=int64),\n",
       " array([269,   8, 806, 866,   0], dtype=int64),\n",
       " array([ 270,   13,  891, 1173,    0], dtype=int64),\n",
       " array([273,   9, 870, 384,   0], dtype=int64),\n",
       " array([275,  13, 132, 835,   0], dtype=int64),\n",
       " array([277,  13, 542, 923,   0], dtype=int64),\n",
       " array([279,   8,  64, 125,   0], dtype=int64),\n",
       " array([ 282,   13, 1114,  694,    0], dtype=int64),\n",
       " array([ 283,   30,  646, 1192,    0], dtype=int64),\n",
       " array([ 284,   30,  566, 1462,    0], dtype=int64),\n",
       " array([ 286,   11,  913, 1058,    0], dtype=int64),\n",
       " array([ 287,    9,  520, 1339,    0], dtype=int64),\n",
       " array([290,  11, 910, 430,   0], dtype=int64),\n",
       " array([ 291,   11,  913, 1489,    0], dtype=int64),\n",
       " array([ 292,   13,  467, 1192,    0], dtype=int64),\n",
       " array([293,   8, 581, 191,   0], dtype=int64),\n",
       " array([ 295,    8,  537, 1031,    0], dtype=int64),\n",
       " array([ 298,    8,  656, 1236,    0], dtype=int64),\n",
       " array([299,  13, 960, 467,   1], dtype=int64),\n",
       " array([301,  10, 996, 726,   0], dtype=int64),\n",
       " array([ 304,   11, 1012, 1199,    0], dtype=int64),\n",
       " array([305,   8, 759, 932,   0], dtype=int64),\n",
       " array([ 306,   11, 1044, 1332,    0], dtype=int64),\n",
       " array([307,   8, 616, 402,   0], dtype=int64),\n",
       " array([ 308,    8,  883, 1446,    0], dtype=int64),\n",
       " array([ 309,    8,  658, 1292,    0], dtype=int64),\n",
       " array([313,  13, 754,  93,   0], dtype=int64),\n",
       " array([316,   8, 430, 835,   0], dtype=int64),\n",
       " array([317,  13, 796, 474,   0], dtype=int64),\n",
       " array([318,  13, 786, 450,   0], dtype=int64),\n",
       " array([ 320,    8,  694, 1158,    0], dtype=int64),\n",
       " array([321,  13, 119,  38,   0], dtype=int64),\n",
       " array([ 322,    8,  481, 1089,    0], dtype=int64),\n",
       " array([ 325,   13,  940, 1183,    0], dtype=int64),\n",
       " array([326,   8, 916, 355,   0], dtype=int64),\n",
       " array([ 328,   30,  348, 1357,    0], dtype=int64),\n",
       " array([ 329,   26,  855, 1426,    0], dtype=int64),\n",
       " array([330,   8, 554, 273,   0], dtype=int64),\n",
       " array([ 331,   11, 1012,  776,    0], dtype=int64),\n",
       " array([332,   8, 792, 727,   0], dtype=int64),\n",
       " array([335,  10, 968, 737,   0], dtype=int64),\n",
       " array([336,  13, 625, 136,   0], dtype=int64),\n",
       " array([337,   9, 105, 553,   0], dtype=int64),\n",
       " array([ 342,   26,  470, 1074,    0], dtype=int64),\n",
       " array([ 343,    8,  283, 1373,    0], dtype=int64),\n",
       " array([345,   8, 554, 293,   0], dtype=int64),\n",
       " array([346,  13, 161, 626,   0], dtype=int64),\n",
       " array([347,   8,   6, 654,   0], dtype=int64),\n",
       " array([ 351,   12,  466, 1387,    0], dtype=int64),\n",
       " array([ 352,   30, 1036, 1061,    0], dtype=int64),\n",
       " array([ 353,    5,  663, 1346,    0], dtype=int64),\n",
       " array([ 355,   30,  742, 1348,    0], dtype=int64),\n",
       " array([356,   8, 598, 324,   0], dtype=int64),\n",
       " array([ 357,   13, 1112,  130,    0], dtype=int64),\n",
       " array([359,  26, 797, 214,   1], dtype=int64),\n",
       " array([360,   8, 744, 306,   0], dtype=int64),\n",
       " array([361,  13, 480, 686,   0], dtype=int64),\n",
       " array([362,   8,  63, 691,   0], dtype=int64),\n",
       " array([363,  13, 556, 639,   0], dtype=int64),\n",
       " array([ 365,   13,  909, 1528,    0], dtype=int64),\n",
       " array([366,  13, 734, 800,   0], dtype=int64),\n",
       " array([ 367,    8, 1085,  392,    0], dtype=int64),\n",
       " array([ 368,    7, 1050, 1208,    0], dtype=int64),\n",
       " array([369,  13, 113, 684,   0], dtype=int64),\n",
       " array([ 370,   13,   27, 1168,    0], dtype=int64),\n",
       " array([ 371,   13,  153, 1315,    0], dtype=int64),\n",
       " array([372,  13, 949, 441,   0], dtype=int64),\n",
       " array([ 374,   26, 1057, 1046,    0], dtype=int64),\n",
       " array([ 378,    8, 1018,  189,    0], dtype=int64),\n",
       " array([ 380,    8,  257, 1006,    0], dtype=int64),\n",
       " array([383,  26, 327, 523,   0], dtype=int64),\n",
       " array([ 384,   10,  279, 1285,    0], dtype=int64),\n",
       " array([385,   8, 754,  40,   0], dtype=int64),\n",
       " array([386,   7, 641, 607,   0], dtype=int64),\n",
       " array([ 387,   13,  754, 1103,    1], dtype=int64),\n",
       " array([389,  13, 694, 108,   0], dtype=int64),\n",
       " array([391,  11, 980, 106,   0], dtype=int64),\n",
       " array([ 392,   13, 1029,  954,    0], dtype=int64),\n",
       " array([393,  13, 617, 395,   0], dtype=int64),\n",
       " array([395,  13, 111, 498,   0], dtype=int64),\n",
       " array([397,  13, 152, 888,   0], dtype=int64),\n",
       " array([398,   9, 468, 814,   0], dtype=int64),\n",
       " array([400,  29, 868, 117,   0], dtype=int64),\n",
       " array([401,   8,  68, 779,   0], dtype=int64),\n",
       " array([403,   8,  81, 640,   0], dtype=int64),\n",
       " array([ 404,    8, 1045, 1479,    0], dtype=int64),\n",
       " array([406,   9, 520, 316,   0], dtype=int64),\n",
       " array([407,  30, 531, 531,   0], dtype=int64),\n",
       " array([ 410,   29,  538, 1212,    0], dtype=int64),\n",
       " array([ 411,   13, 1065,  437,    0], dtype=int64),\n",
       " array([ 412,   12,  783, 1026,    0], dtype=int64),\n",
       " array([413,  13, 434, 297,   0], dtype=int64),\n",
       " array([417,  13, 949, 973,   0], dtype=int64),\n",
       " array([418,  13, 888, 691,   0], dtype=int64),\n",
       " array([ 419,   29,  265, 1429,    0], dtype=int64),\n",
       " array([420,  29, 418, 876,   0], dtype=int64),\n",
       " array([ 421,   10,  279, 1372,    0], dtype=int64),\n",
       " array([ 423,   29, 1040,  278,    0], dtype=int64),\n",
       " array([424,   8, 432, 590,   0], dtype=int64),\n",
       " array([425,  26, 769, 790,   0], dtype=int64),\n",
       " array([ 428,   26,  912, 1238,    0], dtype=int64),\n",
       " array([430,   8,  11, 764,   0], dtype=int64),\n",
       " array([435,   8,  46, 473,   0], dtype=int64),\n",
       " array([438,  10, 106, 566,   0], dtype=int64),\n",
       " array([ 440,   13,  723, 1267,    0], dtype=int64),\n",
       " array([441,   8,  97, 344,   0], dtype=int64),\n",
       " array([ 445,    9,  468, 1202,    0], dtype=int64),\n",
       " array([ 446,   13, 1031,  105,    0], dtype=int64),\n",
       " array([447,   8,  88,  56,   0], dtype=int64),\n",
       " array([ 449,    8,   54, 1195,    0], dtype=int64),\n",
       " array([ 450,    8,  682, 1357,    0], dtype=int64),\n",
       " array([ 452,    8,  761, 1368,    0], dtype=int64),\n",
       " array([454,   8, 733, 594,   0], dtype=int64),\n",
       " array([455,   8, 807, 776,   0], dtype=int64),\n",
       " array([ 456,   11,  571, 1359,    0], dtype=int64),\n",
       " array([ 457,   13,  951, 1334,    0], dtype=int64),\n",
       " array([461,  13, 511,  89,   0], dtype=int64),\n",
       " array([ 463,    8, 1058, 1471,    0], dtype=int64),\n",
       " array([ 465,    8,  598, 1201,    0], dtype=int64),\n",
       " array([ 468,    8,  792, 1234,    0], dtype=int64),\n",
       " array([469,  30, 324, 566,   0], dtype=int64),\n",
       " array([ 470,   26,  492, 1044,    0], dtype=int64),\n",
       " array([472,  11, 759, 420,   0], dtype=int64),\n",
       " array([ 473,   26,  529, 1464,    0], dtype=int64),\n",
       " array([474,  13, 601, 866,   0], dtype=int64),\n",
       " array([475,  13, 262, 561,   0], dtype=int64),\n",
       " array([ 478,   26,  925, 1146,    0], dtype=int64),\n",
       " array([479,   8, 293, 820,   0], dtype=int64),\n",
       " array([ 483,   13,  844, 1563,    0], dtype=int64),\n",
       " array([ 484,    8,  889, 1039,    0], dtype=int64),\n",
       " array([485,  13, 726, 956,   0], dtype=int64),\n",
       " array([486,  13, 281, 136,   0], dtype=int64),\n",
       " array([487,   5, 663, 795,   0], dtype=int64),\n",
       " array([488,  28, 492, 401,   0], dtype=int64),\n",
       " array([ 491,   13,   21, 1419,    0], dtype=int64),\n",
       " array([492,   4,  16, 808,   0], dtype=int64),\n",
       " array([494,  13, 780, 448,   0], dtype=int64),\n",
       " array([ 495,   12, 1075,  167,    0], dtype=int64),\n",
       " array([496,  26, 746, 477,   0], dtype=int64),\n",
       " array([ 497,    8,  793, 1085,    0], dtype=int64),\n",
       " array([499,  12, 107, 268,   0], dtype=int64),\n",
       " array([ 502,    9,   19, 1520,    0], dtype=int64),\n",
       " array([ 503,   30, 1015, 1497,    0], dtype=int64),\n",
       " array([504,  27, 724, 195,   0], dtype=int64),\n",
       " array([505,   5, 279, 301,   0], dtype=int64),\n",
       " array([ 506,   13, 1025,  819,    0], dtype=int64),\n",
       " array([507,   8, 672, 797,   0], dtype=int64),\n",
       " array([ 508,    4,  860, 1549,    0], dtype=int64),\n",
       " array([ 515,   13,  473, 1200,    0], dtype=int64),\n",
       " array([516,   8, 616,  39,   0], dtype=int64),\n",
       " array([517,   5, 955,  88,   0], dtype=int64),\n",
       " array([518,  13, 155, 445,   0], dtype=int64),\n",
       " array([ 519,   29,  896, 1445,    0], dtype=int64),\n",
       " array([521,  10, 280, 302,   0], dtype=int64),\n",
       " array([523,   8,  56, 944,   0], dtype=int64),\n",
       " array([525,  13,  22, 413,   0], dtype=int64),\n",
       " array([526,   8, 983, 689,   0], dtype=int64),\n",
       " array([ 528,   13,  135, 1389,    0], dtype=int64),\n",
       " array([529,   8, 532, 704,   0], dtype=int64),\n",
       " array([530,  26, 466, 969,   0], dtype=int64),\n",
       " array([531,   8, 725, 852,   0], dtype=int64),\n",
       " array([532,   8, 810, 815,   0], dtype=int64),\n",
       " array([ 533,   13,  139, 1216,    0], dtype=int64),\n",
       " array([534,   8,  56, 768,   0], dtype=int64),\n",
       " array([ 535,    8,   99, 1538,    0], dtype=int64),\n",
       " array([536,  30, 563, 153,   0], dtype=int64),\n",
       " array([ 538,    8,  285, 1474,    0], dtype=int64),\n",
       " array([539,  26, 301, 152,   0], dtype=int64),\n",
       " array([ 541,   13,  135, 1246,    0], dtype=int64),\n",
       " array([543,   8,  87, 839,   0], dtype=int64),\n",
       " array([ 545,    8,  919, 1039,    0], dtype=int64),\n",
       " array([546,  13, 508, 279,   0], dtype=int64),\n",
       " array([548,   8,  49, 433,   0], dtype=int64),\n",
       " array([549,   8, 674,  30,   0], dtype=int64),\n",
       " array([ 554,   13,   27, 1061,    0], dtype=int64),\n",
       " array([555,   8,  75,  43,   0], dtype=int64),\n",
       " array([ 557,   13,  167, 1481,    0], dtype=int64),\n",
       " array([ 558,   29,  265, 1212,    0], dtype=int64),\n",
       " array([ 560,   30,  683, 1256,    0], dtype=int64),\n",
       " array([561,   8,  87, 854,   0], dtype=int64),\n",
       " array([563,  26, 620, 958,   0], dtype=int64),\n",
       " array([564,  13, 284, 279,   0], dtype=int64),\n",
       " array([566,  12, 466, 569,   0], dtype=int64),\n",
       " array([567,  13, 504, 852,   0], dtype=int64),\n",
       " array([569,   9, 635, 569,   0], dtype=int64),\n",
       " array([570,   8, 817, 124,   0], dtype=int64),\n",
       " array([ 571,    7,  986, 1084,    0], dtype=int64),\n",
       " array([572,  26, 367, 766,   0], dtype=int64),\n",
       " array([575,   8, 481, 651,   0], dtype=int64),\n",
       " array([ 576,    8,  247, 1340,    0], dtype=int64),\n",
       " array([577,  13,  24,  53,   0], dtype=int64),\n",
       " array([579,   8, 532, 860,   0], dtype=int64),\n",
       " array([ 584,    5, 1043,  301,    0], dtype=int64),\n",
       " array([ 589,    8,  885, 1489,    0], dtype=int64),\n",
       " array([590,  30, 294, 953,   0], dtype=int64),\n",
       " array([591,   8, 296, 792,   0], dtype=int64),\n",
       " array([ 592,   10,  106, 1419,    0], dtype=int64),\n",
       " array([594,  13, 773, 996,   0], dtype=int64),\n",
       " array([596,   8,  66, 516,   0], dtype=int64),\n",
       " array([598,   8,  81, 243,   0], dtype=int64),\n",
       " array([599,  13,  26,  71,   0], dtype=int64),\n",
       " array([601,  26, 514, 387,   0], dtype=int64),\n",
       " array([ 603,    8,  989, 1411,    0], dtype=int64),\n",
       " array([607,  13, 465,   7,   0], dtype=int64),\n",
       " array([609,  13, 865, 862,   0], dtype=int64),\n",
       " array([612,   8, 737, 883,   0], dtype=int64),\n",
       " array([613,  13, 454, 179,   0], dtype=int64),\n",
       " array([ 615,   13,  919, 1210,    0], dtype=int64),\n",
       " array([617,  12, 779, 439,   0], dtype=int64),\n",
       " array([618,  13, 586, 872,   0], dtype=int64),\n",
       " array([ 620,   13,  672, 1358,    0], dtype=int64),\n",
       " array([ 621,   30,  980, 1554,    0], dtype=int64),\n",
       " array([623,  13, 954, 734,   0], dtype=int64),\n",
       " array([626,  12, 492, 537,   0], dtype=int64),\n",
       " array([628,   4,  16, 957,   0], dtype=int64),\n",
       " array([634,  13, 162, 866,   0], dtype=int64),\n",
       " array([ 635,    5, 1043,   42,    0], dtype=int64),\n",
       " array([ 638,   30,  303, 1458,    0], dtype=int64),\n",
       " array([ 639,   13,  504, 1441,    0], dtype=int64),\n",
       " array([640,  10, 824, 226,   0], dtype=int64),\n",
       " array([641,  30, 261, 633,   0], dtype=int64),\n",
       " array([642,  26, 305, 294,   0], dtype=int64),\n",
       " array([ 643,    8,  740, 1044,    0], dtype=int64),\n",
       " array([644,  13, 129, 973,   0], dtype=int64),\n",
       " array([646,   8, 433, 478,   0], dtype=int64),\n",
       " array([647,   5, 663, 829,   0], dtype=int64),\n",
       " array([ 648,   30,  260, 1044,    0], dtype=int64),\n",
       " array([ 649,    8,  907, 1321,    0], dtype=int64),\n",
       " array([ 650,    8, 1017,  496,    0], dtype=int64),\n",
       " array([651,   8, 256, 522,   0], dtype=int64),\n",
       " array([654,  13, 249, 499,   0], dtype=int64),\n",
       " array([656,  29, 896, 460,   0], dtype=int64),\n",
       " array([657,  30, 909, 586,   0], dtype=int64),\n",
       " array([659,  30, 945, 419,   0], dtype=int64),\n",
       " array([660,   8, 882, 446,   0], dtype=int64),\n",
       " array([661,   8, 902, 754,   0], dtype=int64),\n",
       " array([662,  13, 386, 567,   0], dtype=int64),\n",
       " array([ 664,   13,  408, 1192,    0], dtype=int64),\n",
       " array([665,   8,  58, 637,   0], dtype=int64),\n",
       " array([ 666,   12,  470, 1266,    0], dtype=int64),\n",
       " array([667,  11, 669, 790,   0], dtype=int64),\n",
       " array([ 671,   11,  571, 1481,    0], dtype=int64),\n",
       " array([672,   9, 635, 760,   0], dtype=int64),\n",
       " array([ 673,   10,  732, 1281,    0], dtype=int64),\n",
       " array([677,   8, 755, 243,   0], dtype=int64),\n",
       " array([ 678,    8,   52, 1064,    0], dtype=int64),\n",
       " array([680,  13, 468, 289,   0], dtype=int64),\n",
       " array([ 681,   13,  694, 1507,    0], dtype=int64),\n",
       " array([ 682,    8,  432, 1412,    0], dtype=int64),\n",
       " array([683,  13, 510, 586,   0], dtype=int64),\n",
       " array([ 684,   26,  852, 1029,    0], dtype=int64),\n",
       " array([ 686,    8,  610, 1073,    0], dtype=int64),\n",
       " array([ 687,    8,   13, 1514,    0], dtype=int64),\n",
       " array([689,  11, 910, 724,   0], dtype=int64),\n",
       " array([693,   8, 711, 384,   0], dtype=int64),\n",
       " array([ 694,   13,  694, 1015,    0], dtype=int64),\n",
       " array([ 695,   13,  249, 1506,    0], dtype=int64),\n",
       " array([698,   8,  73, 290,   0], dtype=int64),\n",
       " array([ 699,    5,  934, 1194,    0], dtype=int64),\n",
       " array([ 701,   13,  408, 1004,    0], dtype=int64),\n",
       " array([704,   8, 884, 175,   0], dtype=int64),\n",
       " array([705,  29, 985,  96,   0], dtype=int64),\n",
       " array([ 706,    8,  271, 1305,    0], dtype=int64),\n",
       " array([ 708,   13,  786, 1073,    0], dtype=int64),\n",
       " array([ 710,   26,  937, 1528,    0], dtype=int64),\n",
       " array([711,  30, 818, 365,   0], dtype=int64),\n",
       " array([712,  13, 422,  38,   0], dtype=int64),\n",
       " array([714,   9, 870,   6,   0], dtype=int64),\n",
       " array([ 715,   29,  750, 1167,    0], dtype=int64),\n",
       " array([718,   8, 494, 815,   0], dtype=int64),\n",
       " array([719,  29, 443, 152,   0], dtype=int64),\n",
       " array([721,  29, 896, 207,   0], dtype=int64),\n",
       " array([ 722,    8,  658, 1436,    0], dtype=int64),\n",
       " array([723,  13, 751, 572,   0], dtype=int64),\n",
       " array([ 724,    8,  424, 1434,    0], dtype=int64),\n",
       " array([731,  30, 354, 273,   0], dtype=int64),\n",
       " array([ 732,   30,  773, 1106,    0], dtype=int64),\n",
       " array([ 733,    6,  677, 1101,    0], dtype=int64),\n",
       " array([735,  13, 714, 748,   0], dtype=int64),\n",
       " array([736,   3, 670, 444,   0], dtype=int64),\n",
       " array([740,   8, 810, 276,   0], dtype=int64),\n",
       " array([741,   8,  14, 528,   0], dtype=int64),\n",
       " array([ 742,    8, 1000, 1112,    0], dtype=int64),\n",
       " array([ 743,    8, 1085,   42,    0], dtype=int64),\n",
       " array([746,  13, 756,  15,   0], dtype=int64),\n",
       " array([748,  30, 468, 910,   0], dtype=int64),\n",
       " array([ 750,   30,  362, 1140,    0], dtype=int64),\n",
       " array([751,   4, 459,  41,   0], dtype=int64),\n",
       " array([754,  12, 783, 528,   0], dtype=int64),\n",
       " array([759,  13, 434, 277,   0], dtype=int64),\n",
       " array([760,   4, 803, 807,   0], dtype=int64),\n",
       " array([762,  13, 158, 850,   0], dtype=int64),\n",
       " array([ 764,   26,  502, 1405,    0], dtype=int64),\n",
       " array([765,  13, 756, 964,   0], dtype=int64),\n",
       " array([767,  13, 588, 823,   0], dtype=int64),\n",
       " array([769,  13, 681, 209,   0], dtype=int64),\n",
       " array([771,  30, 341,  90,   0], dtype=int64),\n",
       " array([773,  26, 979, 510,   0], dtype=int64),\n",
       " array([774,  30, 924, 650,   0], dtype=int64),\n",
       " array([775,  13, 513, 161,   0], dtype=int64),\n",
       " array([776,   8, 682, 938,   0], dtype=int64),\n",
       " array([777,   8, 989, 514,   0], dtype=int64),\n",
       " array([778,  13, 653, 310,   0], dtype=int64),\n",
       " array([779,  29, 416, 102,   0], dtype=int64),\n",
       " array([ 780,   13,  153, 1488,    0], dtype=int64),\n",
       " array([782,   8, 761, 289,   0], dtype=int64),\n",
       " array([ 784,   26,  916, 1469,    0], dtype=int64),\n",
       " array([785,  26, 745, 989,   0], dtype=int64),\n",
       " array([787,  13, 734, 732,   0], dtype=int64),\n",
       " array([789,   8, 812, 353,   0], dtype=int64),\n",
       " array([ 792,   30,  773, 1320,    0], dtype=int64),\n",
       " array([ 794,   12, 1075,  789,    0], dtype=int64),\n",
       " array([795,   9, 535,  74,   0], dtype=int64),\n",
       " array([796,   8, 733,  74,   0], dtype=int64),\n",
       " array([ 799,    8,  793, 1536,    0], dtype=int64),\n",
       " array([ 800,   29,  458, 1445,    0], dtype=int64),\n",
       " array([ 803,   13, 1027,  854,    0], dtype=int64),\n",
       " array([806,  13,  23, 159,   0], dtype=int64),\n",
       " array([809,   8,   7,  25,   0], dtype=int64),\n",
       " array([810,  12, 470, 132,   0], dtype=int64),\n",
       " array([812,   9, 468, 570,   0], dtype=int64),\n",
       " array([ 813,   10,  457, 1463,    0], dtype=int64),\n",
       " array([ 814,   30,  351, 1383,    0], dtype=int64),\n",
       " array([815,  13, 608, 331,   0], dtype=int64),\n",
       " array([816,  11, 658, 183,   0], dtype=int64),\n",
       " array([ 817,   13,  756, 1168,    0], dtype=int64),\n",
       " array([819,  11, 658, 392,   0], dtype=int64),\n",
       " array([ 820,   28,  407, 1387,    0], dtype=int64),\n",
       " array([821,  13,  25, 257,   0], dtype=int64),\n",
       " array([ 823,    9,  578, 1147,    0], dtype=int64),\n",
       " array([824,  13, 141,  89,   0], dtype=int64),\n",
       " array([ 825,   26,  752, 1332,    0], dtype=int64),\n",
       " array([826,  11, 506, 195,   0], dtype=int64),\n",
       " array([829,  13, 275, 787,   0], dtype=int64),\n",
       " array([830,  26,   2, 261,   0], dtype=int64),\n",
       " array([831,  26, 344, 648,   0], dtype=int64),\n",
       " array([832,  29, 416,  19,   0], dtype=int64),\n",
       " array([ 833,    8,  754, 1388,    0], dtype=int64),\n",
       " array([ 835,   13,  865, 1481,    0], dtype=int64),\n",
       " array([836,  26, 852, 225,   0], dtype=int64),\n",
       " array([838,  13, 159, 649,   0], dtype=int64),\n",
       " array([ 840,   13,  504, 1335,    0], dtype=int64),\n",
       " array([841,   8,  48, 143,   0], dtype=int64),\n",
       " array([ 842,   29,  621, 1045,    0], dtype=int64),\n",
       " array([ 843,   13, 1083,  142,    0], dtype=int64),\n",
       " array([846,  10, 934, 957,   0], dtype=int64),\n",
       " array([847,   8,  69, 892,   0], dtype=int64),\n",
       " array([848,  13, 685, 314,   0], dtype=int64),\n",
       " array([ 850,   13,  890, 1122,    0], dtype=int64),\n",
       " array([851,  13, 844, 316,   0], dtype=int64),\n",
       " array([ 852,   30,  946, 1576,    0], dtype=int64),\n",
       " array([853,   8,  46, 582,   0], dtype=int64),\n",
       " array([ 854,    8, 1045, 1026,    0], dtype=int64),\n",
       " array([855,   8, 812, 603,   0], dtype=int64),\n",
       " array([856,  13, 763, 535,   0], dtype=int64),\n",
       " array([ 857,   13,  885, 1419,    0], dtype=int64),\n",
       " array([858,   8, 581,  58,   0], dtype=int64),\n",
       " array([ 859,   13, 1108,   27,    0], dtype=int64),\n",
       " array([ 860,   13,  726, 1343,    0], dtype=int64),\n",
       " array([861,  13, 778, 899,   0], dtype=int64),\n",
       " array([862,   8, 433, 574,   0], dtype=int64),\n",
       " array([ 863,    8,    6, 1259,    0], dtype=int64),\n",
       " array([ 867,    9,   19, 1386,    0], dtype=int64),\n",
       " array([ 868,   30,  320, 1259,    0], dtype=int64),\n",
       " array([869,  30, 310, 569,   0], dtype=int64),\n",
       " array([ 870,   13,  705, 1520,    0], dtype=int64),\n",
       " array([872,   8, 928, 520,   0], dtype=int64),\n",
       " array([ 873,    2,  559, 1241,    0], dtype=int64),\n",
       " array([ 874,   29,  416, 1324,    0], dtype=int64),\n",
       " array([875,  26, 410, 823,   0], dtype=int64),\n",
       " array([ 878,   30,  370, 1472,    0], dtype=int64),\n",
       " array([879,  13, 125, 545,   0], dtype=int64),\n",
       " array([880,   8,  63, 338,   0], dtype=int64),\n",
       " array([881,  13, 167, 749,   0], dtype=int64),\n",
       " array([882,   8, 970, 355,   0], dtype=int64),\n",
       " array([883,  12, 526, 283,   0], dtype=int64),\n",
       " array([ 884,   11,  971, 1352,    0], dtype=int64),\n",
       " array([885,  13, 113, 988,   0], dtype=int64),\n",
       " array([886,   9, 578, 495,   0], dtype=int64),\n",
       " array([ 888,    8,   60, 1357,    0], dtype=int64),\n",
       " array([892,  29, 787, 570,   0], dtype=int64),\n",
       " array([ 893,   13,  675, 1263,    0], dtype=int64),\n",
       " array([ 894,   12, 1063,  424,    0], dtype=int64),\n",
       " array([897,  13, 440,   7,   0], dtype=int64),\n",
       " array([ 899,    5,  689, 1415,    0], dtype=int64),\n",
       " array([901,   8, 447, 236,   0], dtype=int64),\n",
       " array([902,  11, 571, 240,   0], dtype=int64),\n",
       " array([904,   8, 964, 307,   0], dtype=int64),\n",
       " array([906,   8,  88, 910,   0], dtype=int64),\n",
       " array([907,   8,  68, 118,   0], dtype=int64),\n",
       " array([909,  13, 561, 871,   0], dtype=int64),\n",
       " array([910,  13, 468, 103,   0], dtype=int64),\n",
       " array([911,  13, 606, 464,   0], dtype=int64),\n",
       " array([912,  30, 821, 946,   0], dtype=int64),\n",
       " array([ 913,   13,  134, 1371,    0], dtype=int64),\n",
       " array([915,   8,  84, 484,   0], dtype=int64),\n",
       " array([ 916,   30,  984, 1542,    0], dtype=int64),\n",
       " array([ 922,   26,  748, 1402,    0], dtype=int64),\n",
       " array([923,  13, 556, 968,   0], dtype=int64),\n",
       " array([924,  13, 152, 520,   0], dtype=int64),\n",
       " array([ 925,    7, 1102, 1124,    0], dtype=int64),\n",
       " array([ 930,   13,  513, 1458,    0], dtype=int64),\n",
       " array([ 932,    8,  449, 1331,    0], dtype=int64),\n",
       " array([933,  13, 110, 205,   0], dtype=int64),\n",
       " array([935,  29, 418, 960,   0], dtype=int64),\n",
       " array([936,   8, 292, 460,   0], dtype=int64),\n",
       " array([940,  13, 151, 831,   0], dtype=int64),\n",
       " array([942,   8, 101, 993,   0], dtype=int64),\n",
       " array([944,   8, 283, 691,   0], dtype=int64),\n",
       " array([945,   5, 934, 557,   0], dtype=int64),\n",
       " array([ 946,   13,  166, 1091,    0], dtype=int64),\n",
       " array([948,  13, 129, 971,   0], dtype=int64),\n",
       " array([ 949,   13, 1070, 1582,    0], dtype=int64),\n",
       " array([ 951,   12, 1063,  394,    0], dtype=int64),\n",
       " array([ 953,    8,  544, 1178,    0], dtype=int64),\n",
       " array([955,   7, 687, 665,   0], dtype=int64),\n",
       " array([ 956,    8,  879, 1404,    0], dtype=int64),\n",
       " array([ 957,   30,  529, 1310,    0], dtype=int64),\n",
       " array([959,  29, 538, 863,   0], dtype=int64),\n",
       " array([ 962,    8, 1059,  346,    0], dtype=int64),\n",
       " array([963,  13, 434, 413,   0], dtype=int64),\n",
       " array([965,   8, 247,   7,   0], dtype=int64),\n",
       " array([ 966,   30, 1024, 1106,    0], dtype=int64),\n",
       " array([ 967,    8,  101, 1581,    0], dtype=int64),\n",
       " array([968,  13, 734, 635,   0], dtype=int64),\n",
       " array([969,  13, 152, 356,   0], dtype=int64),\n",
       " array([970,  13, 140, 463,   0], dtype=int64),\n",
       " array([973,  26, 898, 984,   0], dtype=int64),\n",
       " array([974,   8, 922, 257,   0], dtype=int64),\n",
       " array([ 975,   13,  134, 1300,    0], dtype=int64),\n",
       " array([977,   8, 604, 692,   0], dtype=int64),\n",
       " array([ 978,   26,  775, 1429,    0], dtype=int64),\n",
       " array([ 979,   29,    3, 1467,    0], dtype=int64),\n",
       " array([ 981,   26, 1006,  151,    0], dtype=int64),\n",
       " array([982,  13, 705, 197,   0], dtype=int64),\n",
       " array([983,  13, 150, 379,   0], dtype=int64),\n",
       " array([985,  13, 766, 435,   0], dtype=int64),\n",
       " array([ 987,    8,  513, 1271,    0], dtype=int64),\n",
       " array([ 988,    8,   93, 1003,    0], dtype=int64),\n",
       " array([ 990,    5,  279, 1334,    0], dtype=int64),\n",
       " array([991,   8,  90, 969,   0], dtype=int64),\n",
       " array([ 993,    8,  248, 1579,    0], dtype=int64),\n",
       " array([ 994,   26,  451, 1575,    0], dtype=int64),\n",
       " array([996,   8, 656, 122,   0], dtype=int64),\n",
       " array([ 998,   13,   21, 1457,    1], dtype=int64),\n",
       " array([999,  13, 515, 676,   0], dtype=int64),\n",
       " array([1001,   26, 1031,  758,    0], dtype=int64),\n",
       " array([1002,   13, 1027,  337,    0], dtype=int64),\n",
       " array([1003,    8,   59, 1387,    0], dtype=int64),\n",
       " array([1004,    8,    6,  611,    0], dtype=int64),\n",
       " array([1007,    8,   99,  830,    0], dtype=int64),\n",
       " array([1008,   12,  109, 1166,    0], dtype=int64),\n",
       " array([1009,    8,  296,  274,    0], dtype=int64),\n",
       " array([1010,    8,  705, 1043,    0], dtype=int64),\n",
       " array([1011,   13,  166,   74,    0], dtype=int64),\n",
       " array([1012,   30,  865,  340,    0], dtype=int64),\n",
       " array([1013,   12,  470,  416,    0], dtype=int64),\n",
       " array([1016,   26,  306,  358,    0], dtype=int64),\n",
       " array([1017,   13,  770,  969,    0], dtype=int64),\n",
       " array([1018,    7,  687, 1477,    0], dtype=int64),\n",
       " array([1019,    8,  583, 1199,    0], dtype=int64),\n",
       " array([1020,   13,  470, 1060,    0], dtype=int64),\n",
       " array([1024,   13,   23,  161,    0], dtype=int64),\n",
       " array([1026,   13,  131, 1465,    0], dtype=int64),\n",
       " array([1030,    5,  689, 1073,    0], dtype=int64),\n",
       " array([1031,   13,  413, 1347,    0], dtype=int64),\n",
       " array([1032,   13,  672,  440,    0], dtype=int64),\n",
       " array([1035,   30,  541,  795,    0], dtype=int64),\n",
       " array([1036,   26,    2, 1125,    0], dtype=int64),\n",
       " array([1038,   29,  443, 1162,    0], dtype=int64),\n",
       " array([1039,    8,  865,  791,    0], dtype=int64),\n",
       " array([1041,   11,  658,  565,    0], dtype=int64),\n",
       " array([1042,    8,  579,  304,    0], dtype=int64),\n",
       " array([1043,   12,  108,  939,    0], dtype=int64),\n",
       " array([1046,    8, 1017, 1447,    0], dtype=int64),\n",
       " array([1047,    8,   55, 1204,    0], dtype=int64),\n",
       " array([1048,   13,  731,  915,    0], dtype=int64),\n",
       " array([1050,    9,  578,  877,    0], dtype=int64),\n",
       " array([1052,   13,  516,   98,    0], dtype=int64),\n",
       " array([1059,    8,  501,   79,    0], dtype=int64),\n",
       " array([1062,   30,  659,  641,    0], dtype=int64),\n",
       " array([1063,   13,  995, 1193,    0], dtype=int64),\n",
       " array([1064,   11, 1099,  776,    0], dtype=int64),\n",
       " array([1065,    8,  248, 1408,    0], dtype=int64),\n",
       " array([1066,    9,  287,  760,    0], dtype=int64),\n",
       " array([1068,   13,  603,  665,    0], dtype=int64),\n",
       " array([1070,   26,  379, 1320,    0], dtype=int64),\n",
       " array([1071,   13,  588,  930,    0], dtype=int64),\n",
       " array([1072,   30,  474,  317,    0], dtype=int64),\n",
       " array([1074,    8, 1086, 1238,    0], dtype=int64),\n",
       " array([1076,    8,  581,  691,    0], dtype=int64),\n",
       " array([1077,    8,   69,  516,    0], dtype=int64),\n",
       " array([1078,   13,  770,  993,    0], dtype=int64),\n",
       " array([1079,   10,  934,  844,    0], dtype=int64),\n",
       " array([1082,    8,  885,  283,    0], dtype=int64),\n",
       " array([1083,   13, 1100,  967,    0], dtype=int64),\n",
       " array([1084,    9,  989,  868,    0], dtype=int64),\n",
       " array([1085,    2,  583,  375,    0], dtype=int64),\n",
       " array([1086,   26,  776,  834,    0], dtype=int64),\n",
       " array([1088,   30,  354,  151,    0], dtype=int64),\n",
       " array([1089,   13,  891,   34,    0], dtype=int64),\n",
       " array([1091,    8,  544,  163,    0], dtype=int64),\n",
       " array([1093,    8,  812,  703,    0], dtype=int64),\n",
       " array([1094,   26,  358,  506,    0], dtype=int64),\n",
       " array([1095,   28,  977,  583,    0], dtype=int64),\n",
       " array([1096,    7,  392,  316,    0], dtype=int64),\n",
       " array([1097,   13,  556,  586,    0], dtype=int64),\n",
       " array([1098,    8,  884,  741,    0], dtype=int64),\n",
       " array([1100,    8,  430, 1475,    0], dtype=int64),\n",
       " array([1102,    8,  247, 1069,    0], dtype=int64),\n",
       " array([1103,   30,  997,  641,    0], dtype=int64),\n",
       " array([1104,   26,  754,  402,    0], dtype=int64),\n",
       " array([1106,   28, 1062, 1547,    0], dtype=int64),\n",
       " array([1108,   30,  479,  523,    0], dtype=int64),\n",
       " array([1109,   29, 1081, 1432,    0], dtype=int64),\n",
       " array([1110,    6,  677, 1192,    1], dtype=int64),\n",
       " array([1112,   29,  750,  181,    0], dtype=int64),\n",
       " array([1115,   13,  170,  872,    0], dtype=int64),\n",
       " array([1116,   13,  901,  590,    0], dtype=int64),\n",
       " array([1119,   26,  620, 1363,    0], dtype=int64),\n",
       " array([1121,   11, 1099, 1451,    0], dtype=int64),\n",
       " array([1122,   13,  168,  733,    0], dtype=int64),\n",
       " array([1123,   13,  470,  393,    0], dtype=int64),\n",
       " array([1126,    8,   98,  974,    0], dtype=int64),\n",
       " array([1127,    4,  791,  185,    0], dtype=int64),\n",
       " array([1128,   29, 1040, 1165,    0], dtype=int64),\n",
       " array([1129,    8,  981,  848,    0], dtype=int64),\n",
       " array([1130,    9,  468,  119,    0], dtype=int64),\n",
       " array([1131,   13,  420, 1255,    0], dtype=int64),\n",
       " array([1132,    8,   63,  865,    0], dtype=int64),\n",
       " array([1134,   13,  136,    8,    0], dtype=int64),\n",
       " array([1135,   13,  763,  835,    0], dtype=int64),\n",
       " array([1136,   30,  683, 1564,    0], dtype=int64),\n",
       " array([1138,   30,  343,  263,    0], dtype=int64),\n",
       " array([1139,   13,  586, 1136,    1], dtype=int64),\n",
       " array([1140,   30,  616,  502,    0], dtype=int64),\n",
       " array([1141,    8,   55,  195,    0], dtype=int64),\n",
       " array([1142,   29,  715, 1384,    0], dtype=int64),\n",
       " array([1144,    8, 1000, 1375,    0], dtype=int64),\n",
       " array([1145,    9,   18,   15,    0], dtype=int64),\n",
       " array([1147,    8,  276, 1382,    0], dtype=int64),\n",
       " array([1150,   28,  525,  590,    0], dtype=int64),\n",
       " array([1151,   13,  608, 1011,    0], dtype=int64),\n",
       " array([1154,    8,  604, 1046,    0], dtype=int64),\n",
       " array([1156,    2,  744,  679,    0], dtype=int64),\n",
       " array([1159,   30,  351,  619,    0], dtype=int64),\n",
       " array([1160,    9,   19, 1412,    0], dtype=int64),\n",
       " array([1163,   13,  138,  441,    0], dtype=int64),\n",
       " array([1164,   13,  512,  833,    0], dtype=int64),\n",
       " array([1165,   26,  475,  849,    0], dtype=int64),\n",
       " array([1167,    3,  389, 1457,    0], dtype=int64),\n",
       " array([1168,    3,  584,   67,    0], dtype=int64),\n",
       " array([1169,   29,  943, 1329,    0], dtype=int64),\n",
       " array([1170,    8,   48, 1064,    0], dtype=int64),\n",
       " array([1172,   29, 1046, 1162,    0], dtype=int64),\n",
       " array([1173,    5,  455, 1064,    0], dtype=int64),\n",
       " array([1174,   29,  982,  189,    0], dtype=int64),\n",
       " array([1176,    5,  663,  823,    0], dtype=int64),\n",
       " array([1177,   30,  381,  823,    0], dtype=int64),\n",
       " array([1178,    5,  455,  565,    0], dtype=int64),\n",
       " array([1180,   29,  750,  386,    0], dtype=int64),\n",
       " array([1181,   30,  428,   11,    0], dtype=int64),\n",
       " array([1188,   13,  154,  864,    0], dtype=int64),\n",
       " array([1189,   13,  124, 1103,    0], dtype=int64),\n",
       " array([1190,   30, 1074,  175,    0], dtype=int64),\n",
       " array([1191,   26,  375, 1397,    0], dtype=int64),\n",
       " array([1195,   13,  653,  878,    0], dtype=int64),\n",
       " array([1196,   13,   25,  703,    0], dtype=int64),\n",
       " array([1200,   30, 1036,  153,    0], dtype=int64),\n",
       " array([1201,   12, 1075, 1388,    0], dtype=int64),\n",
       " array([1202,    8,  288,  376,    0], dtype=int64),\n",
       " array([1203,    8,  808,  758,    0], dtype=int64),\n",
       " array([1206,    8,  579, 1451,    0], dtype=int64),\n",
       " array([1207,    7,  392, 1065,    0], dtype=int64),\n",
       " array([1211,   13,  132, 1532,    0], dtype=int64),\n",
       " array([1213,   13,  168,  332,    0], dtype=int64),\n",
       " array([1214,    8,  276, 1077,    0], dtype=int64),\n",
       " array([1218,   30,  354,  449,    0], dtype=int64),\n",
       " array([1220,   13,  891, 1472,    0], dtype=int64),\n",
       " array([1221,    8,  296,  243,    0], dtype=int64),\n",
       " array([1222,    8,  654,  409,    0], dtype=int64),\n",
       " array([1225,    8,  741, 1551,    0], dtype=int64),\n",
       " array([1227,   13,  744,  653,    0], dtype=int64),\n",
       " array([1228,    1, 1026,  344,    0], dtype=int64),\n",
       " array([1229,   11, 1012,  750,    0], dtype=int64),\n",
       " array([1230,    8,  723, 1390,    0], dtype=int64),\n",
       " array([1231,   13,  137,  570,    0], dtype=int64),\n",
       " array([1232,    8,  902, 1411,    0], dtype=int64),\n",
       " array([1235,   29,  443,    7,    0], dtype=int64),\n",
       " array([1236,    4,   16,  538,    0], dtype=int64),\n",
       " array([1238,    9,  105,   24,    0], dtype=int64),\n",
       " array([1240,    8,   62,  485,    0], dtype=int64),\n",
       " array([1242,   13,  881,  298,    0], dtype=int64),\n",
       " array([1243,   13,  844,   64,    0], dtype=int64),\n",
       " array([1244,    8, 1059,   46,    0], dtype=int64),\n",
       " array([1245,   13,   22, 1295,    0], dtype=int64),\n",
       " array([1249,   13,  137,  926,    0], dtype=int64),\n",
       " array([1250,   28,  378, 1387,    0], dtype=int64),\n",
       " array([1252,    9,  105, 1318,    0], dtype=int64),\n",
       " array([1253,   26,  735, 1547,    0], dtype=int64),\n",
       " array([1254,   29,  896, 1329,    0], dtype=int64),\n",
       " array([1255,   30,  980,  833,    0], dtype=int64),\n",
       " array([1256,   13,  470,  810,    0], dtype=int64),\n",
       " array([1257,   26,  453,  455,    0], dtype=int64),\n",
       " array([1258,    9,  788,  647,    0], dtype=int64),\n",
       " array([1259,    8,  694,  347,    0], dtype=int64),\n",
       " array([1260,   12,  109,  649,    0], dtype=int64),\n",
       " array([1262,   13,  473, 1333,    0], dtype=int64),\n",
       " array([1265,    8, 1070, 1512,    0], dtype=int64),\n",
       " array([1266,    8,   10,  935,    0], dtype=int64),\n",
       " array([1272,   13,  473,  807,    0], dtype=int64),\n",
       " array([1274,    8,  906,  504,    0], dtype=int64),\n",
       " array([1275,   29,  800,  786,    0], dtype=int64),\n",
       " array([1279,   26,  379, 1287,    0], dtype=int64),\n",
       " array([1281,    8,   60,  807,    0], dtype=int64),\n",
       " array([1286,   29,    3,  659,    0], dtype=int64),\n",
       " array([1287,    4,  651, 1232,    0], dtype=int64),\n",
       " array([1288,    5,  893,  567,    0], dtype=int64),\n",
       " array([1290,   13,  992,  107,    0], dtype=int64),\n",
       " array([1291,   26,  519, 1210,    0], dtype=int64),\n",
       " array([1292,   11,  913,  183,    0], dtype=int64),\n",
       " array([1293,    8,  447, 1378,    0], dtype=int64),\n",
       " array([1294,   29,  787,  911,    0], dtype=int64),\n",
       " array([1296,    8,  627,  143,    0], dtype=int64),\n",
       " array([1297,   26, 1020,  619,    0], dtype=int64),\n",
       " array([1299,    8,  269,  658,    0], dtype=int64),\n",
       " array([1302,    8,  494,   21,    0], dtype=int64),\n",
       " array([1303,    8, 1015,   28,    0], dtype=int64),\n",
       " array([1304,   13,  467,  725,    0], dtype=int64),\n",
       " array([1305,    8,   11,  266,    0], dtype=int64),\n",
       " array([1307,    8,  808, 1209,    0], dtype=int64),\n",
       " array([1308,   30, 1103,  141,    0], dtype=int64),\n",
       " array([1309,   13,  885, 1344,    0], dtype=int64),\n",
       " array([1310,   13,  744,    5,    0], dtype=int64),\n",
       " array([1311,   12,  107,  554,    0], dtype=int64),\n",
       " array([1312,    8, 1081, 1124,    0], dtype=int64),\n",
       " array([1313,   29,    3,  413,    0], dtype=int64),\n",
       " array([1316,    8,  276,  391,    0], dtype=int64),\n",
       " array([1319,    8,  772, 1169,    0], dtype=int64),\n",
       " array([1324,   12,  526,  452,    0], dtype=int64),\n",
       " array([1330,    8,  705,  989,    0], dtype=int64),\n",
       " array([1331,   13, 1007,  616,    0], dtype=int64),\n",
       " array([1333,   26,  630,  578,    0], dtype=int64),\n",
       " array([1334,   10, 1043, 1372,    0], dtype=int64),\n",
       " array([1335,   28,  853,  787,    0], dtype=int64),\n",
       " array([1336,    8,  911,  888,    0], dtype=int64),\n",
       " array([1339,    9,  788,  369,    0], dtype=int64),\n",
       " array([1340,    8,  806,  956,    0], dtype=int64),\n",
       " array([1341,   13,  685, 1158,    0], dtype=int64),\n",
       " array([1342,    7, 1102, 1438,    0], dtype=int64),\n",
       " array([1345,   13,  780,   66,    0], dtype=int64),\n",
       " array([1346,   12, 1063, 1298,    0], dtype=int64),\n",
       " array([1347,    8,   76, 1087,    0], dtype=int64),\n",
       " array([1348,   29,  696,  386,    0], dtype=int64),\n",
       " array([1351,    8, 1058,  579,    0], dtype=int64),\n",
       " array([1352,   13,  130, 1377,    0], dtype=int64),\n",
       " array([1356,   29,  621,  184,    0], dtype=int64),\n",
       " array([1357,    8, 1086,  288,    0], dtype=int64),\n",
       " array([1358,    3,  670,   67,    0], dtype=int64),\n",
       " array([1360,    8,  757, 1049,    0], dtype=int64),\n",
       " array([1361,    4,  860,  209,    0], dtype=int64),\n",
       " array([1362,    8,  433,  602,    0], dtype=int64),\n",
       " array([1363,   13,  960,  279,    0], dtype=int64),\n",
       " array([1364,   13, 1033, 1190,    0], dtype=int64),\n",
       " array([1365,   29,  982,  569,    0], dtype=int64),\n",
       " array([1368,   10,  824,  729,    0], dtype=int64),\n",
       " array([1370,    8,   90, 1008,    0], dtype=int64),\n",
       " array([1371,    5,  934,  866,    0], dtype=int64),\n",
       " array([1372,    8, 1073, 1259,    0], dtype=int64),\n",
       " array([1374,   13,  979, 1059,    0], dtype=int64),\n",
       " array([1375,   29,  674,  386,    0], dtype=int64),\n",
       " array([1376,   13,  504,   23,    0], dtype=int64),\n",
       " array([1379,    8,  806,  206,    0], dtype=int64),\n",
       " array([1380,   13,   26, 1465,    0], dtype=int64),\n",
       " array([1383,    4,  591, 1549,    0], dtype=int64),\n",
       " array([1388,    8,   64, 1371,    0], dtype=int64),\n",
       " array([1389,   11,  795, 1160,    0], dtype=int64),\n",
       " array([1391,   13,  515,  749,    0], dtype=int64),\n",
       " array([1393,    5,  455,    7,    0], dtype=int64),\n",
       " array([1395,    8,  627,  573,    0], dtype=int64),\n",
       " array([1396,    8,  293, 1450,    0], dtype=int64),\n",
       " array([1397,    9,  578, 1417,    0], dtype=int64),\n",
       " array([1398,    7,  986,  478,    0], dtype=int64),\n",
       " array([1399,   13,  141, 1491,    0], dtype=int64),\n",
       " array([1402,   29,  416,   81,    0], dtype=int64),\n",
       " array([1403,    8, 1018,  210,    0], dtype=int64),\n",
       " array([1404,   13,  511, 1069,    0], dtype=int64),\n",
       " array([1405,   29,  443,  874,    0], dtype=int64),\n",
       " array([1406,   27, 1098, 1192,    0], dtype=int64),\n",
       " array([1407,   26, 1000, 1396,    0], dtype=int64),\n",
       " array([1408,   28,  441,  189,    0], dtype=int64),\n",
       " array([1409,   11,  795,  832,    0], dtype=int64),\n",
       " array([1412,    7, 1050, 1146,    0], dtype=int64),\n",
       " array([1415,   13,  164,  166,    0], dtype=int64),\n",
       " array([1416,    8,   82,  450,    0], dtype=int64),\n",
       " array([1418,    8,  772,  498,    0], dtype=int64),\n",
       " array([1419,   30,  921,  310,    0], dtype=int64),\n",
       " array([1420,   13,  888, 1533,    0], dtype=int64),\n",
       " array([1421,   13,  152,   33,    0], dtype=int64),\n",
       " array([1422,    4,  651, 1040,    0], dtype=int64),\n",
       " array([1424,    7, 1102,  772,    0], dtype=int64),\n",
       " array([1425,    9,  578,  661,    0], dtype=int64),\n",
       " array([1426,    9,  444, 1520,    0], dtype=int64),\n",
       " array([1429,   30,  747,  202,    0], dtype=int64),\n",
       " array([1433,   13,  273, 1175,    0], dtype=int64),\n",
       " array([1434,   29,  613,  865,    0], dtype=int64),\n",
       " array([1435,    8,   58,  697,    0], dtype=int64),\n",
       " array([1436,   11,  571,  832,    0], dtype=int64),\n",
       " array([1437,   30,  354,  412,    0], dtype=int64),\n",
       " array([1438,    8,  907,  483,    0], dtype=int64),\n",
       " array([1439,    8,  470,  529,    0], dtype=int64),\n",
       " array([1442,   29, 1046,  855,    0], dtype=int64),\n",
       " array([1443,   13,  756,  279,    0], dtype=int64),\n",
       " array([1444,    8,   49, 1300,    0], dtype=int64),\n",
       " array([1445,    8,  513,  683,    0], dtype=int64),\n",
       " array([1446,   30,  747, 1347,    0], dtype=int64),\n",
       " array([1447,   11,  669,  377,    0], dtype=int64),\n",
       " array([1448,    9,  896, 1505,    0], dtype=int64),\n",
       " array([1449,   30,  866, 1258,    0], dtype=int64),\n",
       " array([1451,   13,  754, 1319,    1], dtype=int64),\n",
       " array([1452,   13,  161,  321,    0], dtype=int64),\n",
       " array([1453,   13,  465,  929,    0], dtype=int64),\n",
       " array([1455,    8,  772,  694,    0], dtype=int64),\n",
       " array([1456,    8,  554, 1280,    0], dtype=int64),\n",
       " array([1461,    7,  392, 1531,    0], dtype=int64),\n",
       " array([1463,    8,   50,   84,    0], dtype=int64),\n",
       " array([1464,   10,  732,   73,    0], dtype=int64),\n",
       " array([1465,    8,  433,   84,    0], dtype=int64),\n",
       " array([1466,   11,  506,  694,    0], dtype=int64),\n",
       " array([1467,   26,  694,  234,    0], dtype=int64),\n",
       " array([1471,   13,  125,  978,    0], dtype=int64),\n",
       " array([1473,    8,   49, 1223,    0], dtype=int64),\n",
       " array([1474,    8,  437,  841,    0], dtype=int64),\n",
       " array([1477,    4,  591,  957,    0], dtype=int64),\n",
       " array([1478,    8,    8, 1085,    0], dtype=int64),\n",
       " array([1479,    8,  470,  544,    0], dtype=int64),\n",
       " array([1480,    8,  544, 1551,    0], dtype=int64),\n",
       " array([1481,    8,  674,  386,    0], dtype=int64),\n",
       " array([1483,    8,   51,  198,    0], dtype=int64),\n",
       " array([1484,    2,  642,  233,    0], dtype=int64),\n",
       " array([1485,   13,  422, 1054,    0], dtype=int64),\n",
       " array([1486,    8,  707,  176,    0], dtype=int64),\n",
       " array([1488,    8,  804,  995,    0], dtype=int64),\n",
       " array([1490,   26,  667,  964,    0], dtype=int64),\n",
       " array([1491,    7, 1102, 1147,    0], dtype=int64),\n",
       " array([1493,   13,  714,  996,    0], dtype=int64),\n",
       " array([1498,   13,  679,  724,    0], dtype=int64),\n",
       " array([1500,    9,  520,  455,    0], dtype=int64),\n",
       " array([1501,   13, 1114,  686,    0], dtype=int64),\n",
       " array([1502,   26,  407,  642,    0], dtype=int64),\n",
       " array([1503,    8,   69, 1312,    0], dtype=int64),\n",
       " array([1504,   30,  939,  378,    0], dtype=int64),\n",
       " array([1505,   13,   25, 1558,    0], dtype=int64),\n",
       " array([1506,   26,  634,  958,    0], dtype=int64),\n",
       " array([1508,    9,  896,  665,    0], dtype=int64),\n",
       " array([1509,   13,  644,  428,    0], dtype=int64),\n",
       " array([1510,    8,  481, 1516,    0], dtype=int64),\n",
       " array([1512,    8,  942,  587,    0], dtype=int64),\n",
       " array([1513,    5,  955, 1046,    0], dtype=int64),\n",
       " array([1514,   13,  413,  820,    0], dtype=int64),\n",
       " array([1515,   13,  139,  401,    0], dtype=int64),\n",
       " array([1516,   13,  135, 1035,    0], dtype=int64),\n",
       " array([1522,    8,   77, 1003,    0], dtype=int64),\n",
       " array([1524,   30,  668, 1436,    0], dtype=int64),\n",
       " array([1525,    9,  607,   15,    0], dtype=int64),\n",
       " array([1526,   13,  979, 1133,    0], dtype=int64),\n",
       " array([1529,   13,  151,  752,    0], dtype=int64),\n",
       " array([1530,   26,  636,  131,    0], dtype=int64),\n",
       " array([1532,    8,   65,  186,    0], dtype=int64),\n",
       " array([1533,    8, 1110, 1373,    0], dtype=int64),\n",
       " array([1537,    8,  707,  363,    0], dtype=int64),\n",
       " array([1538,    8,   81,  743,    0], dtype=int64),\n",
       " array([1542,    8,  292,  248,    0], dtype=int64),\n",
       " array([1544,    7,  691,  609,    0], dtype=int64),\n",
       " array([1547,   30,  924,  321,    0], dtype=int64),\n",
       " array([1548,    5,  689,  688,    0], dtype=int64),\n",
       " array([1549,   13,  885, 1339,    0], dtype=int64),\n",
       " array([1550,   11, 1099,  301,    0], dtype=int64),\n",
       " array([1553,    8,  906,  171,    0], dtype=int64),\n",
       " array([1554,    8,  658, 1185,    0], dtype=int64),\n",
       " array([1558,   13,  891,  550,    0], dtype=int64),\n",
       " array([1559,   13,  144,  988,    0], dtype=int64),\n",
       " array([1561,   10,  431,  987,    0], dtype=int64),\n",
       " array([1562,   11,  971, 1259,    0], dtype=int64),\n",
       " array([1563,    8,  658, 1537,    0], dtype=int64),\n",
       " array([1564,   30,  946,  283,    0], dtype=int64),\n",
       " array([1565,    8,  865,  277,    0], dtype=int64),\n",
       " array([1567,   13,  940,  478,    0], dtype=int64),\n",
       " array([1568,   30,  914, 1351,    0], dtype=int64),\n",
       " array([1569,   30,  666, 1041,    0], dtype=int64),\n",
       " array([1570,   26,  569, 1544,    0], dtype=int64),\n",
       " array([1571,    7,  641,  609,    0], dtype=int64),\n",
       " array([1573,    8,  623,  405,    0], dtype=int64),\n",
       " array([1578,   13,  468,  324,    0], dtype=int64),\n",
       " array([1579,   26,  322,   46,    0], dtype=int64),\n",
       " array([1580,   13,  940, 1193,    0], dtype=int64),\n",
       " array([1582,   30,  351,  895,    0], dtype=int64),\n",
       " array([1583,   11, 1012, 1434,    0], dtype=int64),\n",
       " array([1584,    8,   76, 1358,    0], dtype=int64),\n",
       " array([1585,    8,   92, 1565,    0], dtype=int64),\n",
       " array([1588,    8,  288, 1538,    0], dtype=int64),\n",
       " array([1591,    8,  437,  757,    0], dtype=int64),\n",
       " array([1593,   26, 1115, 1157,    0], dtype=int64),\n",
       " array([1594,    8,  470,  510,    0], dtype=int64),\n",
       " array([1596,   30,  360,   58,    0], dtype=int64),\n",
       " array([1597,   13,  888,  174,    0], dtype=int64),\n",
       " array([1598,   13,  542,  862,    0], dtype=int64),\n",
       " array([1599,   11,  669,  189,    0], dtype=int64),\n",
       " array([1601,    8, 1073, 1330,    0], dtype=int64),\n",
       " array([1603,   11,  571,   47,    0], dtype=int64),\n",
       " array([1604,   11, 1044, 1115,    0], dtype=int64),\n",
       " array([1605,   26,  746, 1298,    0], dtype=int64),\n",
       " array([1606,   13, 1021, 1124,    0], dtype=int64),\n",
       " array([1607,    8,  705,  342,    0], dtype=int64),\n",
       " array([1608,    8, 1085,   19,    0], dtype=int64),\n",
       " array([1609,   26,  262,  524,    0], dtype=int64),\n",
       " array([1615,    8, 1063,   87,    0], dtype=int64),\n",
       " array([1616,   26,  985, 1226,    0], dtype=int64),\n",
       " array([1617,   29,  443,  184,    0], dtype=int64),\n",
       " array([1619,   11, 1012,  724,    0], dtype=int64),\n",
       " array([1621,   26,  307,   93,    0], dtype=int64),\n",
       " array([1623,   30,  961, 1387,    0], dtype=int64),\n",
       " array([1624,   13,  731, 1208,    0], dtype=int64),\n",
       " array([1625,    8,  915, 1290,    0], dtype=int64),\n",
       " array([1626,   26,  473, 1418,    0], dtype=int64),\n",
       " array([1628,    8,  723, 1550,    0], dtype=int64),\n",
       " array([1629,   13,  758,   87,    0], dtype=int64),\n",
       " array([1630,   13,  155,  843,    0], dtype=int64),\n",
       " array([1631,    8,   46,  327,    0], dtype=int64),\n",
       " array([1635,   13, 1100,  249,    0], dtype=int64),\n",
       " array([1637,    5, 1043, 1182,    0], dtype=int64),\n",
       " array([1638,    7, 1050,  299,    0], dtype=int64),\n",
       " array([1639,   26,  749,   99,    0], dtype=int64),\n",
       " array([1640,   10,  996,  828,    0], dtype=int64),\n",
       " array([1641,    8,  674, 1582,    1], dtype=int64),\n",
       " array([1644,    8,  727, 1131,    0], dtype=int64),\n",
       " array([1646,   29,  975,  863,    0], dtype=int64),\n",
       " ...]"
      ]
     },
     "execution_count": 92,
     "metadata": {},
     "output_type": "execute_result"
    }
   ],
   "source": [
    "cust_demo_values=list(train_data.values)\n",
    "cust_demo_values     #printing the all the values of the dataset"
   ]
  },
  {
   "cell_type": "code",
   "execution_count": 93,
   "id": "7d108732",
   "metadata": {},
   "outputs": [
    {
     "data": {
      "text/plain": [
       "1       1\n",
       "1056    1\n",
       "1033    1\n",
       "1036    1\n",
       "1045    1\n",
       "       ..\n",
       "514     1\n",
       "515     1\n",
       "516     1\n",
       "517     1\n",
       "1581    1\n",
       "Name: customer_id, Length: 760, dtype: int64"
      ]
     },
     "execution_count": 93,
     "metadata": {},
     "output_type": "execute_result"
    }
   ],
   "source": [
    "cust_demo.customer_id.value_counts()  #count of diffrent element values in the customer_id column of the dataset"
   ]
  },
  {
   "cell_type": "code",
   "execution_count": 94,
   "id": "cb1219a8",
   "metadata": {},
   "outputs": [
    {
     "data": {
      "text/plain": [
       "0    719\n",
       "1     41\n",
       "Name: rented, dtype: int64"
      ]
     },
     "execution_count": 94,
     "metadata": {},
     "output_type": "execute_result"
    }
   ],
   "source": [
    "cust_demo.rented.value_counts()  #count of diffrent element values in the rented column of the dataset"
   ]
  },
  {
   "cell_type": "code",
   "execution_count": 95,
   "id": "a28bc3a2",
   "metadata": {},
   "outputs": [
    {
     "data": {
      "text/plain": [
       "5     187\n",
       "4     165\n",
       "6      88\n",
       "3      70\n",
       "2      68\n",
       "1      59\n",
       "8      37\n",
       "7      32\n",
       "9      29\n",
       "12     10\n",
       "10     10\n",
       "11      5\n",
       "Name: income_bracket, dtype: int64"
      ]
     },
     "execution_count": 95,
     "metadata": {},
     "output_type": "execute_result"
    }
   ],
   "source": [
    "cust_demo.income_bracket.value_counts()  #count of diffrent element values in the income_braket column of the dataset"
   ]
  },
  {
   "cell_type": "code",
   "execution_count": 96,
   "id": "7ae56143",
   "metadata": {},
   "outputs": [
    {
     "name": "stdout",
     "output_type": "stream",
     "text": [
      "0      False\n",
      "1      False\n",
      "2      False\n",
      "3      False\n",
      "4      False\n",
      "       ...  \n",
      "755    False\n",
      "756    False\n",
      "757    False\n",
      "758    False\n",
      "759    False\n",
      "Length: 760, dtype: bool\n"
     ]
    }
   ],
   "source": [
    "print(cust_demo.duplicated()) #finding duplciated rows"
   ]
  },
  {
   "cell_type": "code",
   "execution_count": 97,
   "id": "6278efe2",
   "metadata": {},
   "outputs": [
    {
     "name": "stdout",
     "output_type": "stream",
     "text": [
      "0\n"
     ]
    }
   ],
   "source": [
    "print(cust_demo.duplicated().sum())  #counting the no. of duplicate rows in the dataset"
   ]
  },
  {
   "cell_type": "code",
   "execution_count": 98,
   "id": "ffa1f530",
   "metadata": {},
   "outputs": [
    {
     "data": {
      "text/plain": [
       "customer_id         0\n",
       "age_range           0\n",
       "marital_status    329\n",
       "rented              0\n",
       "family_size         0\n",
       "no_of_children    538\n",
       "income_bracket      0\n",
       "dtype: int64"
      ]
     },
     "execution_count": 98,
     "metadata": {},
     "output_type": "execute_result"
    }
   ],
   "source": [
    "cust_demo.isnull().sum()   #counting the total null values in the dataset"
   ]
  }
 ],
 "metadata": {
  "kernelspec": {
   "display_name": "Python 3 (ipykernel)",
   "language": "python",
   "name": "python3"
  },
  "language_info": {
   "codemirror_mode": {
    "name": "ipython",
    "version": 3
   },
   "file_extension": ".py",
   "mimetype": "text/x-python",
   "name": "python",
   "nbconvert_exporter": "python",
   "pygments_lexer": "ipython3",
   "version": "3.9.12"
  }
 },
 "nbformat": 4,
 "nbformat_minor": 5
}
